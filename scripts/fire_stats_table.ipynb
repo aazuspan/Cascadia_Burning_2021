{
 "cells": [
  {
   "cell_type": "markdown",
   "id": "31b2b333",
   "metadata": {},
   "source": [
    "# Fire stats table"
   ]
  },
  {
   "cell_type": "markdown",
   "id": "a5200359",
   "metadata": {},
   "source": [
    "## Goal\n",
    "Take the raw data created by fire_stats_data and turn it into a summary table for the appendix that shows the area of high severity fire in the region, in LSRs, and in old-growth in LSRs by year group (and total of year groups), stratified by ecoregion into Coast Range, Olympic Peninsula, OR Western Cascades, WA Western Cascades, and a total of ecoregions. "
   ]
  },
  {
   "cell_type": "code",
   "execution_count": 1,
   "id": "d5387bad",
   "metadata": {
    "ExecuteTime": {
     "end_time": "2021-11-22T23:40:13.990183Z",
     "start_time": "2021-11-22T23:40:13.668504Z"
    }
   },
   "outputs": [],
   "source": [
    "import pandas as pd\n",
    "import os\n",
    "import numpy as np"
   ]
  },
  {
   "cell_type": "code",
   "execution_count": 2,
   "id": "701ee217",
   "metadata": {
    "ExecuteTime": {
     "end_time": "2021-11-22T23:40:15.175094Z",
     "start_time": "2021-11-22T23:40:15.157495Z"
    }
   },
   "outputs": [],
   "source": [
    "from datetime import date\n",
    "today = date.today().strftime(format=\"%Y%m%d\")"
   ]
  },
  {
   "cell_type": "code",
   "execution_count": 36,
   "id": "1976aa7c",
   "metadata": {
    "ExecuteTime": {
     "end_time": "2021-11-22T23:54:42.747390Z",
     "start_time": "2021-11-22T23:54:42.721271Z"
    }
   },
   "outputs": [],
   "source": [
    "df = pd.read_csv(\"fire_stats_data_20210802.csv\")"
   ]
  },
  {
   "cell_type": "markdown",
   "id": "4472264e",
   "metadata": {},
   "source": [
    "## Processing"
   ]
  },
  {
   "cell_type": "markdown",
   "id": "054e081f",
   "metadata": {},
   "source": [
    "Subset the data to only include high severity (>75% mortality)."
   ]
  },
  {
   "cell_type": "code",
   "execution_count": 4,
   "id": "c0bbdbde",
   "metadata": {
    "ExecuteTime": {
     "end_time": "2021-11-22T23:40:16.889633Z",
     "start_time": "2021-11-22T23:40:16.879660Z"
    }
   },
   "outputs": [],
   "source": [
    "high = df[df.severity.isin([\"High\", \"Very high\"])].copy()"
   ]
  },
  {
   "cell_type": "markdown",
   "id": "77b74361",
   "metadata": {
    "ExecuteTime": {
     "end_time": "2021-06-07T16:12:10.094781Z",
     "start_time": "2021-06-07T16:12:10.080087Z"
    }
   },
   "source": [
    "Create a new column for grouping by ecoregion that splits the Cascades into OR and WA"
   ]
  },
  {
   "cell_type": "code",
   "execution_count": 5,
   "id": "f94c15b2",
   "metadata": {
    "ExecuteTime": {
     "end_time": "2021-11-22T23:40:17.811246Z",
     "start_time": "2021-11-22T23:40:17.757219Z"
    }
   },
   "outputs": [],
   "source": [
    "high[\"eco_group\"] = high.apply(lambda x : \" \".join([x.state, x.ecoregion]) if x.ecoregion == \"Western Cascades\" else x.ecoregion, axis=1)"
   ]
  },
  {
   "cell_type": "markdown",
   "id": "c76772ec",
   "metadata": {
    "heading_collapsed": true
   },
   "source": [
    "### Ecoregion"
   ]
  },
  {
   "cell_type": "markdown",
   "id": "b6f33771",
   "metadata": {
    "hidden": true
   },
   "source": [
    "Group and summarize the data to get the area and percent burned in each ecoregion"
   ]
  },
  {
   "cell_type": "code",
   "execution_count": 6,
   "id": "8323c83c",
   "metadata": {
    "ExecuteTime": {
     "end_time": "2021-11-22T23:40:24.913615Z",
     "start_time": "2021-11-22T23:40:24.899454Z"
    },
    "hidden": true
   },
   "outputs": [],
   "source": [
    "ecoregion_table = (\n",
    "    high\n",
    "    .groupby([\"eco_group\", \"yr_group\"])\n",
    "    .agg({\"hectares_burned\": sum, \"region_hectares\": \"first\"})\n",
    ")"
   ]
  },
  {
   "cell_type": "markdown",
   "id": "b269098d",
   "metadata": {
    "hidden": true
   },
   "source": [
    "Aggregate the data to get the total for both year groups"
   ]
  },
  {
   "cell_type": "code",
   "execution_count": 7,
   "id": "7b84fb37",
   "metadata": {
    "ExecuteTime": {
     "end_time": "2021-11-22T23:40:25.714424Z",
     "start_time": "2021-11-22T23:40:25.708181Z"
    },
    "hidden": true
   },
   "outputs": [],
   "source": [
    "ecoregion_total = ecoregion_table.groupby([\"eco_group\"]).agg({\"hectares_burned\": sum, \"region_hectares\": \"first\"})"
   ]
  },
  {
   "cell_type": "markdown",
   "id": "1c756271",
   "metadata": {
    "hidden": true
   },
   "source": [
    "Combine the grouped data and total data."
   ]
  },
  {
   "cell_type": "code",
   "execution_count": 8,
   "id": "59cf3805",
   "metadata": {
    "ExecuteTime": {
     "end_time": "2021-11-22T23:40:28.245286Z",
     "start_time": "2021-11-22T23:40:28.232811Z"
    },
    "hidden": true
   },
   "outputs": [],
   "source": [
    "ecoregion_total[\"yr_group\"] = \"Total\"\n",
    "ecoregion_total = ecoregion_total.groupby([\"eco_group\", \"yr_group\"]).sum()\n",
    "ecoregion_combined = pd.concat([ecoregion_table, ecoregion_total])\n",
    "ecoregion_data = ecoregion_combined.groupby([\"eco_group\", \"yr_group\"]).sum()"
   ]
  },
  {
   "cell_type": "markdown",
   "id": "d322056a",
   "metadata": {
    "heading_collapsed": true
   },
   "source": [
    "### LSRs"
   ]
  },
  {
   "cell_type": "markdown",
   "id": "0c697d25",
   "metadata": {
    "hidden": true
   },
   "source": [
    "Group and summarize the data to get the area and percent burned in LSRs"
   ]
  },
  {
   "cell_type": "code",
   "execution_count": 9,
   "id": "68e7ca82",
   "metadata": {
    "ExecuteTime": {
     "end_time": "2021-11-22T23:40:28.899627Z",
     "start_time": "2021-11-22T23:40:28.889623Z"
    },
    "hidden": true
   },
   "outputs": [],
   "source": [
    "lsr_table = (\n",
    "    high\n",
    "    .groupby([\"eco_group\", \"yr_group\"])\n",
    "    .agg({\"lsr_hectares_burned\": sum, \"region_lsr_hectares\": \"first\"})\n",
    ")"
   ]
  },
  {
   "cell_type": "markdown",
   "id": "c6fa8a03",
   "metadata": {
    "hidden": true
   },
   "source": [
    "Aggregate the data to get the total for both year groups"
   ]
  },
  {
   "cell_type": "code",
   "execution_count": 10,
   "id": "bf02708f",
   "metadata": {
    "ExecuteTime": {
     "end_time": "2021-11-22T23:40:29.414932Z",
     "start_time": "2021-11-22T23:40:29.399976Z"
    },
    "hidden": true
   },
   "outputs": [],
   "source": [
    "lsr_total = lsr_table.groupby([\"eco_group\"]).agg({\"lsr_hectares_burned\": sum, \"region_lsr_hectares\": \"first\"})"
   ]
  },
  {
   "cell_type": "markdown",
   "id": "7914a072",
   "metadata": {
    "hidden": true
   },
   "source": [
    "Combine the grouped data and total data."
   ]
  },
  {
   "cell_type": "code",
   "execution_count": 11,
   "id": "68a18448",
   "metadata": {
    "ExecuteTime": {
     "end_time": "2021-11-22T23:40:29.881251Z",
     "start_time": "2021-11-22T23:40:29.859311Z"
    },
    "hidden": true
   },
   "outputs": [],
   "source": [
    "lsr_total[\"yr_group\"] = \"Total\"\n",
    "lsr_total = lsr_total.groupby([\"eco_group\", \"yr_group\"]).sum()\n",
    "lsr_combined = pd.concat([lsr_table, lsr_total])\n",
    "lsr_data = lsr_combined.groupby([\"eco_group\", \"yr_group\"]).sum()"
   ]
  },
  {
   "cell_type": "code",
   "execution_count": 12,
   "id": "56610f36",
   "metadata": {
    "ExecuteTime": {
     "end_time": "2021-11-22T23:40:30.509217Z",
     "start_time": "2021-11-22T23:40:30.493753Z"
    },
    "hidden": true
   },
   "outputs": [
    {
     "data": {
      "text/html": [
       "<div>\n",
       "<style scoped>\n",
       "    .dataframe tbody tr th:only-of-type {\n",
       "        vertical-align: middle;\n",
       "    }\n",
       "\n",
       "    .dataframe tbody tr th {\n",
       "        vertical-align: top;\n",
       "    }\n",
       "\n",
       "    .dataframe thead th {\n",
       "        text-align: right;\n",
       "    }\n",
       "</style>\n",
       "<table border=\"1\" class=\"dataframe\">\n",
       "  <thead>\n",
       "    <tr style=\"text-align: right;\">\n",
       "      <th></th>\n",
       "      <th></th>\n",
       "      <th>lsr_hectares_burned</th>\n",
       "      <th>region_lsr_hectares</th>\n",
       "    </tr>\n",
       "    <tr>\n",
       "      <th>eco_group</th>\n",
       "      <th>yr_group</th>\n",
       "      <th></th>\n",
       "      <th></th>\n",
       "    </tr>\n",
       "  </thead>\n",
       "  <tbody>\n",
       "    <tr>\n",
       "      <th rowspan=\"3\" valign=\"top\">Coast Range</th>\n",
       "      <th>1985 - 2019</th>\n",
       "      <td>635.13</td>\n",
       "      <td>353348.443324</td>\n",
       "    </tr>\n",
       "    <tr>\n",
       "      <th>2020</th>\n",
       "      <td>0.63</td>\n",
       "      <td>353348.443324</td>\n",
       "    </tr>\n",
       "    <tr>\n",
       "      <th>Total</th>\n",
       "      <td>635.76</td>\n",
       "      <td>353348.443324</td>\n",
       "    </tr>\n",
       "    <tr>\n",
       "      <th rowspan=\"3\" valign=\"top\">Olympic Peninsula</th>\n",
       "      <th>1985 - 2019</th>\n",
       "      <td>334.53</td>\n",
       "      <td>149682.150101</td>\n",
       "    </tr>\n",
       "    <tr>\n",
       "      <th>2020</th>\n",
       "      <td>0.00</td>\n",
       "      <td>149682.150101</td>\n",
       "    </tr>\n",
       "    <tr>\n",
       "      <th>Total</th>\n",
       "      <td>334.53</td>\n",
       "      <td>149682.150101</td>\n",
       "    </tr>\n",
       "    <tr>\n",
       "      <th rowspan=\"3\" valign=\"top\">Oregon Western Cascades</th>\n",
       "      <th>1985 - 2019</th>\n",
       "      <td>24235.92</td>\n",
       "      <td>539256.535473</td>\n",
       "    </tr>\n",
       "    <tr>\n",
       "      <th>2020</th>\n",
       "      <td>18283.50</td>\n",
       "      <td>539256.535473</td>\n",
       "    </tr>\n",
       "    <tr>\n",
       "      <th>Total</th>\n",
       "      <td>42519.42</td>\n",
       "      <td>539256.535473</td>\n",
       "    </tr>\n",
       "    <tr>\n",
       "      <th rowspan=\"3\" valign=\"top\">Washington Western Cascades</th>\n",
       "      <th>1985 - 2019</th>\n",
       "      <td>3534.39</td>\n",
       "      <td>467968.446069</td>\n",
       "    </tr>\n",
       "    <tr>\n",
       "      <th>2020</th>\n",
       "      <td>2307.33</td>\n",
       "      <td>467968.446069</td>\n",
       "    </tr>\n",
       "    <tr>\n",
       "      <th>Total</th>\n",
       "      <td>5841.72</td>\n",
       "      <td>467968.446069</td>\n",
       "    </tr>\n",
       "  </tbody>\n",
       "</table>\n",
       "</div>"
      ],
      "text/plain": [
       "                                         lsr_hectares_burned  \\\n",
       "eco_group                   yr_group                           \n",
       "Coast Range                 1985 - 2019               635.13   \n",
       "                            2020                        0.63   \n",
       "                            Total                     635.76   \n",
       "Olympic Peninsula           1985 - 2019               334.53   \n",
       "                            2020                        0.00   \n",
       "                            Total                     334.53   \n",
       "Oregon Western Cascades     1985 - 2019             24235.92   \n",
       "                            2020                    18283.50   \n",
       "                            Total                   42519.42   \n",
       "Washington Western Cascades 1985 - 2019              3534.39   \n",
       "                            2020                     2307.33   \n",
       "                            Total                    5841.72   \n",
       "\n",
       "                                         region_lsr_hectares  \n",
       "eco_group                   yr_group                          \n",
       "Coast Range                 1985 - 2019        353348.443324  \n",
       "                            2020               353348.443324  \n",
       "                            Total              353348.443324  \n",
       "Olympic Peninsula           1985 - 2019        149682.150101  \n",
       "                            2020               149682.150101  \n",
       "                            Total              149682.150101  \n",
       "Oregon Western Cascades     1985 - 2019        539256.535473  \n",
       "                            2020               539256.535473  \n",
       "                            Total              539256.535473  \n",
       "Washington Western Cascades 1985 - 2019        467968.446069  \n",
       "                            2020               467968.446069  \n",
       "                            Total              467968.446069  "
      ]
     },
     "execution_count": 12,
     "metadata": {},
     "output_type": "execute_result"
    }
   ],
   "source": [
    "lsr_data"
   ]
  },
  {
   "cell_type": "markdown",
   "id": "cb5fba02",
   "metadata": {
    "heading_collapsed": true
   },
   "source": [
    "### OG in LSRs"
   ]
  },
  {
   "cell_type": "markdown",
   "id": "478490dc",
   "metadata": {
    "hidden": true
   },
   "source": [
    "Group and summarize the data to get the area and percent of old growth burned in LSRs"
   ]
  },
  {
   "cell_type": "code",
   "execution_count": 13,
   "id": "f2903daa",
   "metadata": {
    "ExecuteTime": {
     "end_time": "2021-11-22T23:40:32.700317Z",
     "start_time": "2021-11-22T23:40:32.690173Z"
    },
    "hidden": true
   },
   "outputs": [],
   "source": [
    "lsr_og_table = (\n",
    "    high[high.struccond.isin(['Large tree - moderate/closed', 'Large/giant tree - moderate/closed'])]\n",
    "    .groupby([\"eco_group\", \"yr_group\"])\n",
    "    .agg({\"lsr_hectares_burned\": sum, \"region_lsr_og_hectares\": \"first\"})\n",
    ")\n",
    "lsr_og_table = lsr_og_table.rename({\"lsr_hectares_burned\": \"lsr_og_hectares_burned\"}, axis=1)"
   ]
  },
  {
   "cell_type": "markdown",
   "id": "205b3e77",
   "metadata": {
    "hidden": true
   },
   "source": [
    "Aggregate the data to get the total for both year groups"
   ]
  },
  {
   "cell_type": "code",
   "execution_count": 14,
   "id": "501ffc4b",
   "metadata": {
    "ExecuteTime": {
     "end_time": "2021-11-22T23:40:33.136763Z",
     "start_time": "2021-11-22T23:40:33.129787Z"
    },
    "hidden": true
   },
   "outputs": [],
   "source": [
    "lsr_og_total = lsr_og_table.groupby([\"eco_group\"]).agg({\"lsr_og_hectares_burned\": sum, \"region_lsr_og_hectares\": \"first\"})"
   ]
  },
  {
   "cell_type": "markdown",
   "id": "5ccc33d2",
   "metadata": {
    "hidden": true
   },
   "source": [
    "Combine the grouped data and total data."
   ]
  },
  {
   "cell_type": "code",
   "execution_count": 15,
   "id": "a8eae7bc",
   "metadata": {
    "ExecuteTime": {
     "end_time": "2021-11-22T23:40:33.827542Z",
     "start_time": "2021-11-22T23:40:33.807224Z"
    },
    "hidden": true
   },
   "outputs": [],
   "source": [
    "lsr_og_total[\"yr_group\"] = \"Total\"\n",
    "lsr_og_total = lsr_og_total.groupby([\"eco_group\", \"yr_group\"]).sum()\n",
    "lsr_og_combined = pd.concat([lsr_og_table, lsr_og_total])\n",
    "lsr_og_data = lsr_og_combined.groupby([\"eco_group\", \"yr_group\"]).sum()"
   ]
  },
  {
   "cell_type": "markdown",
   "id": "32d10d00",
   "metadata": {
    "heading_collapsed": true
   },
   "source": [
    "### Combining Ecoregion, LSRs, and OG LSRs"
   ]
  },
  {
   "cell_type": "code",
   "execution_count": 16,
   "id": "4179b131",
   "metadata": {
    "ExecuteTime": {
     "end_time": "2021-11-22T23:40:34.830434Z",
     "start_time": "2021-11-22T23:40:34.819505Z"
    },
    "hidden": true
   },
   "outputs": [],
   "source": [
    "all_data = pd.concat([ecoregion_data, lsr_data, lsr_og_data], axis=1)"
   ]
  },
  {
   "cell_type": "markdown",
   "id": "05ae9ea4",
   "metadata": {
    "hidden": true
   },
   "source": [
    "Aggregate all of the ecoregions together into a \"Region\" group"
   ]
  },
  {
   "cell_type": "code",
   "execution_count": 17,
   "id": "79f76634",
   "metadata": {
    "ExecuteTime": {
     "end_time": "2021-11-22T23:40:35.347899Z",
     "start_time": "2021-11-22T23:40:35.331942Z"
    },
    "hidden": true
   },
   "outputs": [],
   "source": [
    "region_data = all_data.groupby(\"yr_group\").sum()\n",
    "region_data[\"eco_group\"] = \"Region\"\n",
    "region_data = region_data.groupby([\"eco_group\", \"yr_group\"]).sum()"
   ]
  },
  {
   "cell_type": "markdown",
   "id": "31929b87",
   "metadata": {
    "hidden": true
   },
   "source": [
    "Calculate the percent of each group burned in the \"Region\" group"
   ]
  },
  {
   "cell_type": "code",
   "execution_count": 18,
   "id": "c1283236",
   "metadata": {
    "ExecuteTime": {
     "end_time": "2021-11-22T23:40:35.803215Z",
     "start_time": "2021-11-22T23:40:35.791215Z"
    },
    "hidden": true
   },
   "outputs": [],
   "source": [
    "region_data[\"percent_burned\"] = region_data.hectares_burned.divide(region_data.region_hectares).multiply(100)\n",
    "region_data[\"lsr_percent_burned\"] = region_data.lsr_hectares_burned.divide(region_data.region_lsr_hectares).multiply(100)\n",
    "region_data[\"lsr_og_percent_burned\"] = region_data.lsr_og_hectares_burned.divide(region_data.region_lsr_og_hectares).multiply(100)"
   ]
  },
  {
   "cell_type": "markdown",
   "id": "45728d97",
   "metadata": {
    "hidden": true
   },
   "source": [
    "Calculate the percent of each group burned in each ecoregion"
   ]
  },
  {
   "cell_type": "code",
   "execution_count": 19,
   "id": "38f7eb0f",
   "metadata": {
    "ExecuteTime": {
     "end_time": "2021-11-22T23:40:36.903789Z",
     "start_time": "2021-11-22T23:40:36.890225Z"
    },
    "hidden": true
   },
   "outputs": [],
   "source": [
    "all_data[\"percent_burned\"] = all_data.hectares_burned.divide(all_data.region_hectares).multiply(100)\n",
    "all_data[\"lsr_percent_burned\"] = all_data.lsr_hectares_burned.divide(all_data.region_lsr_hectares).multiply(100)\n",
    "all_data[\"lsr_og_percent_burned\"] = all_data.lsr_og_hectares_burned.divide(all_data.region_lsr_og_hectares).multiply(100)"
   ]
  },
  {
   "cell_type": "code",
   "execution_count": 20,
   "id": "f61f29f8",
   "metadata": {
    "ExecuteTime": {
     "end_time": "2021-11-22T23:40:37.746256Z",
     "start_time": "2021-11-22T23:40:37.730791Z"
    },
    "hidden": true
   },
   "outputs": [],
   "source": [
    "final_df = pd.concat([region_data, all_data])"
   ]
  },
  {
   "cell_type": "code",
   "execution_count": 21,
   "id": "050bf083",
   "metadata": {
    "ExecuteTime": {
     "end_time": "2021-11-22T23:40:38.574303Z",
     "start_time": "2021-11-22T23:40:38.547374Z"
    },
    "hidden": true
   },
   "outputs": [
    {
     "data": {
      "text/html": [
       "<div>\n",
       "<style scoped>\n",
       "    .dataframe tbody tr th:only-of-type {\n",
       "        vertical-align: middle;\n",
       "    }\n",
       "\n",
       "    .dataframe tbody tr th {\n",
       "        vertical-align: top;\n",
       "    }\n",
       "\n",
       "    .dataframe thead th {\n",
       "        text-align: right;\n",
       "    }\n",
       "</style>\n",
       "<table border=\"1\" class=\"dataframe\">\n",
       "  <thead>\n",
       "    <tr style=\"text-align: right;\">\n",
       "      <th></th>\n",
       "      <th></th>\n",
       "      <th>hectares_burned</th>\n",
       "      <th>region_hectares</th>\n",
       "      <th>lsr_hectares_burned</th>\n",
       "      <th>region_lsr_hectares</th>\n",
       "      <th>lsr_og_hectares_burned</th>\n",
       "      <th>region_lsr_og_hectares</th>\n",
       "      <th>percent_burned</th>\n",
       "      <th>lsr_percent_burned</th>\n",
       "      <th>lsr_og_percent_burned</th>\n",
       "    </tr>\n",
       "    <tr>\n",
       "      <th>eco_group</th>\n",
       "      <th>yr_group</th>\n",
       "      <th></th>\n",
       "      <th></th>\n",
       "      <th></th>\n",
       "      <th></th>\n",
       "      <th></th>\n",
       "      <th></th>\n",
       "      <th></th>\n",
       "      <th></th>\n",
       "      <th></th>\n",
       "    </tr>\n",
       "  </thead>\n",
       "  <tbody>\n",
       "    <tr>\n",
       "      <th rowspan=\"3\" valign=\"top\">Region</th>\n",
       "      <th>1985 - 2019</th>\n",
       "      <td>145480.23</td>\n",
       "      <td>1.025124e+07</td>\n",
       "      <td>28739.97</td>\n",
       "      <td>1.510256e+06</td>\n",
       "      <td>10921.68</td>\n",
       "      <td>636275.70</td>\n",
       "      <td>1.419148</td>\n",
       "      <td>1.902987</td>\n",
       "      <td>1.716501</td>\n",
       "    </tr>\n",
       "    <tr>\n",
       "      <th>2020</th>\n",
       "      <td>177136.92</td>\n",
       "      <td>1.025124e+07</td>\n",
       "      <td>20591.46</td>\n",
       "      <td>1.510256e+06</td>\n",
       "      <td>9232.38</td>\n",
       "      <td>634840.65</td>\n",
       "      <td>1.727956</td>\n",
       "      <td>1.363442</td>\n",
       "      <td>1.454283</td>\n",
       "    </tr>\n",
       "    <tr>\n",
       "      <th>Total</th>\n",
       "      <td>322617.15</td>\n",
       "      <td>1.025124e+07</td>\n",
       "      <td>49331.43</td>\n",
       "      <td>1.510256e+06</td>\n",
       "      <td>20154.06</td>\n",
       "      <td>636275.70</td>\n",
       "      <td>3.147104</td>\n",
       "      <td>3.266429</td>\n",
       "      <td>3.167504</td>\n",
       "    </tr>\n",
       "    <tr>\n",
       "      <th rowspan=\"3\" valign=\"top\">Coast Range</th>\n",
       "      <th>1985 - 2019</th>\n",
       "      <td>1756.98</td>\n",
       "      <td>2.358035e+06</td>\n",
       "      <td>635.13</td>\n",
       "      <td>3.533484e+05</td>\n",
       "      <td>285.66</td>\n",
       "      <td>132543.36</td>\n",
       "      <td>0.074510</td>\n",
       "      <td>0.179746</td>\n",
       "      <td>0.215522</td>\n",
       "    </tr>\n",
       "    <tr>\n",
       "      <th>2020</th>\n",
       "      <td>169.20</td>\n",
       "      <td>2.358035e+06</td>\n",
       "      <td>0.63</td>\n",
       "      <td>3.533484e+05</td>\n",
       "      <td>0.36</td>\n",
       "      <td>169931.25</td>\n",
       "      <td>0.007175</td>\n",
       "      <td>0.000178</td>\n",
       "      <td>0.000212</td>\n",
       "    </tr>\n",
       "    <tr>\n",
       "      <th>Total</th>\n",
       "      <td>1926.18</td>\n",
       "      <td>2.358035e+06</td>\n",
       "      <td>635.76</td>\n",
       "      <td>3.533484e+05</td>\n",
       "      <td>286.02</td>\n",
       "      <td>132543.36</td>\n",
       "      <td>0.081686</td>\n",
       "      <td>0.179924</td>\n",
       "      <td>0.215794</td>\n",
       "    </tr>\n",
       "    <tr>\n",
       "      <th rowspan=\"3\" valign=\"top\">Olympic Peninsula</th>\n",
       "      <th>1985 - 2019</th>\n",
       "      <td>713.88</td>\n",
       "      <td>1.733874e+06</td>\n",
       "      <td>334.53</td>\n",
       "      <td>1.496822e+05</td>\n",
       "      <td>147.15</td>\n",
       "      <td>67318.02</td>\n",
       "      <td>0.041173</td>\n",
       "      <td>0.223494</td>\n",
       "      <td>0.218589</td>\n",
       "    </tr>\n",
       "    <tr>\n",
       "      <th>2020</th>\n",
       "      <td>0.54</td>\n",
       "      <td>1.733874e+06</td>\n",
       "      <td>0.00</td>\n",
       "      <td>1.496822e+05</td>\n",
       "      <td>0.00</td>\n",
       "      <td>66808.44</td>\n",
       "      <td>0.000031</td>\n",
       "      <td>0.000000</td>\n",
       "      <td>0.000000</td>\n",
       "    </tr>\n",
       "    <tr>\n",
       "      <th>Total</th>\n",
       "      <td>714.42</td>\n",
       "      <td>1.733874e+06</td>\n",
       "      <td>334.53</td>\n",
       "      <td>1.496822e+05</td>\n",
       "      <td>147.15</td>\n",
       "      <td>67318.02</td>\n",
       "      <td>0.041204</td>\n",
       "      <td>0.223494</td>\n",
       "      <td>0.218589</td>\n",
       "    </tr>\n",
       "    <tr>\n",
       "      <th rowspan=\"3\" valign=\"top\">Oregon Western Cascades</th>\n",
       "      <th>1985 - 2019</th>\n",
       "      <td>112970.79</td>\n",
       "      <td>2.894037e+06</td>\n",
       "      <td>24235.92</td>\n",
       "      <td>5.392565e+05</td>\n",
       "      <td>9899.55</td>\n",
       "      <td>255562.20</td>\n",
       "      <td>3.903571</td>\n",
       "      <td>4.494321</td>\n",
       "      <td>3.873636</td>\n",
       "    </tr>\n",
       "    <tr>\n",
       "      <th>2020</th>\n",
       "      <td>174211.29</td>\n",
       "      <td>2.894037e+06</td>\n",
       "      <td>18283.50</td>\n",
       "      <td>5.392565e+05</td>\n",
       "      <td>8057.34</td>\n",
       "      <td>220606.92</td>\n",
       "      <td>6.019664</td>\n",
       "      <td>3.390501</td>\n",
       "      <td>3.652351</td>\n",
       "    </tr>\n",
       "    <tr>\n",
       "      <th>Total</th>\n",
       "      <td>287182.08</td>\n",
       "      <td>2.894037e+06</td>\n",
       "      <td>42519.42</td>\n",
       "      <td>5.392565e+05</td>\n",
       "      <td>17956.89</td>\n",
       "      <td>255562.20</td>\n",
       "      <td>9.923235</td>\n",
       "      <td>7.884822</td>\n",
       "      <td>7.026426</td>\n",
       "    </tr>\n",
       "    <tr>\n",
       "      <th rowspan=\"3\" valign=\"top\">Washington Western Cascades</th>\n",
       "      <th>1985 - 2019</th>\n",
       "      <td>30038.58</td>\n",
       "      <td>3.265294e+06</td>\n",
       "      <td>3534.39</td>\n",
       "      <td>4.679684e+05</td>\n",
       "      <td>589.32</td>\n",
       "      <td>180852.12</td>\n",
       "      <td>0.919935</td>\n",
       "      <td>0.755262</td>\n",
       "      <td>0.325857</td>\n",
       "    </tr>\n",
       "    <tr>\n",
       "      <th>2020</th>\n",
       "      <td>2755.89</td>\n",
       "      <td>3.265294e+06</td>\n",
       "      <td>2307.33</td>\n",
       "      <td>4.679684e+05</td>\n",
       "      <td>1174.68</td>\n",
       "      <td>177494.04</td>\n",
       "      <td>0.084399</td>\n",
       "      <td>0.493052</td>\n",
       "      <td>0.661814</td>\n",
       "    </tr>\n",
       "    <tr>\n",
       "      <th>Total</th>\n",
       "      <td>32794.47</td>\n",
       "      <td>3.265294e+06</td>\n",
       "      <td>5841.72</td>\n",
       "      <td>4.679684e+05</td>\n",
       "      <td>1764.00</td>\n",
       "      <td>180852.12</td>\n",
       "      <td>1.004334</td>\n",
       "      <td>1.248315</td>\n",
       "      <td>0.975383</td>\n",
       "    </tr>\n",
       "  </tbody>\n",
       "</table>\n",
       "</div>"
      ],
      "text/plain": [
       "                                         hectares_burned  region_hectares  \\\n",
       "eco_group                   yr_group                                        \n",
       "Region                      1985 - 2019        145480.23     1.025124e+07   \n",
       "                            2020               177136.92     1.025124e+07   \n",
       "                            Total              322617.15     1.025124e+07   \n",
       "Coast Range                 1985 - 2019          1756.98     2.358035e+06   \n",
       "                            2020                  169.20     2.358035e+06   \n",
       "                            Total                1926.18     2.358035e+06   \n",
       "Olympic Peninsula           1985 - 2019           713.88     1.733874e+06   \n",
       "                            2020                    0.54     1.733874e+06   \n",
       "                            Total                 714.42     1.733874e+06   \n",
       "Oregon Western Cascades     1985 - 2019        112970.79     2.894037e+06   \n",
       "                            2020               174211.29     2.894037e+06   \n",
       "                            Total              287182.08     2.894037e+06   \n",
       "Washington Western Cascades 1985 - 2019         30038.58     3.265294e+06   \n",
       "                            2020                 2755.89     3.265294e+06   \n",
       "                            Total               32794.47     3.265294e+06   \n",
       "\n",
       "                                         lsr_hectares_burned  \\\n",
       "eco_group                   yr_group                           \n",
       "Region                      1985 - 2019             28739.97   \n",
       "                            2020                    20591.46   \n",
       "                            Total                   49331.43   \n",
       "Coast Range                 1985 - 2019               635.13   \n",
       "                            2020                        0.63   \n",
       "                            Total                     635.76   \n",
       "Olympic Peninsula           1985 - 2019               334.53   \n",
       "                            2020                        0.00   \n",
       "                            Total                     334.53   \n",
       "Oregon Western Cascades     1985 - 2019             24235.92   \n",
       "                            2020                    18283.50   \n",
       "                            Total                   42519.42   \n",
       "Washington Western Cascades 1985 - 2019              3534.39   \n",
       "                            2020                     2307.33   \n",
       "                            Total                    5841.72   \n",
       "\n",
       "                                         region_lsr_hectares  \\\n",
       "eco_group                   yr_group                           \n",
       "Region                      1985 - 2019         1.510256e+06   \n",
       "                            2020                1.510256e+06   \n",
       "                            Total               1.510256e+06   \n",
       "Coast Range                 1985 - 2019         3.533484e+05   \n",
       "                            2020                3.533484e+05   \n",
       "                            Total               3.533484e+05   \n",
       "Olympic Peninsula           1985 - 2019         1.496822e+05   \n",
       "                            2020                1.496822e+05   \n",
       "                            Total               1.496822e+05   \n",
       "Oregon Western Cascades     1985 - 2019         5.392565e+05   \n",
       "                            2020                5.392565e+05   \n",
       "                            Total               5.392565e+05   \n",
       "Washington Western Cascades 1985 - 2019         4.679684e+05   \n",
       "                            2020                4.679684e+05   \n",
       "                            Total               4.679684e+05   \n",
       "\n",
       "                                         lsr_og_hectares_burned  \\\n",
       "eco_group                   yr_group                              \n",
       "Region                      1985 - 2019                10921.68   \n",
       "                            2020                        9232.38   \n",
       "                            Total                      20154.06   \n",
       "Coast Range                 1985 - 2019                  285.66   \n",
       "                            2020                           0.36   \n",
       "                            Total                        286.02   \n",
       "Olympic Peninsula           1985 - 2019                  147.15   \n",
       "                            2020                           0.00   \n",
       "                            Total                        147.15   \n",
       "Oregon Western Cascades     1985 - 2019                 9899.55   \n",
       "                            2020                        8057.34   \n",
       "                            Total                      17956.89   \n",
       "Washington Western Cascades 1985 - 2019                  589.32   \n",
       "                            2020                        1174.68   \n",
       "                            Total                       1764.00   \n",
       "\n",
       "                                         region_lsr_og_hectares  \\\n",
       "eco_group                   yr_group                              \n",
       "Region                      1985 - 2019               636275.70   \n",
       "                            2020                      634840.65   \n",
       "                            Total                     636275.70   \n",
       "Coast Range                 1985 - 2019               132543.36   \n",
       "                            2020                      169931.25   \n",
       "                            Total                     132543.36   \n",
       "Olympic Peninsula           1985 - 2019                67318.02   \n",
       "                            2020                       66808.44   \n",
       "                            Total                      67318.02   \n",
       "Oregon Western Cascades     1985 - 2019               255562.20   \n",
       "                            2020                      220606.92   \n",
       "                            Total                     255562.20   \n",
       "Washington Western Cascades 1985 - 2019               180852.12   \n",
       "                            2020                      177494.04   \n",
       "                            Total                     180852.12   \n",
       "\n",
       "                                         percent_burned  lsr_percent_burned  \\\n",
       "eco_group                   yr_group                                          \n",
       "Region                      1985 - 2019        1.419148            1.902987   \n",
       "                            2020               1.727956            1.363442   \n",
       "                            Total              3.147104            3.266429   \n",
       "Coast Range                 1985 - 2019        0.074510            0.179746   \n",
       "                            2020               0.007175            0.000178   \n",
       "                            Total              0.081686            0.179924   \n",
       "Olympic Peninsula           1985 - 2019        0.041173            0.223494   \n",
       "                            2020               0.000031            0.000000   \n",
       "                            Total              0.041204            0.223494   \n",
       "Oregon Western Cascades     1985 - 2019        3.903571            4.494321   \n",
       "                            2020               6.019664            3.390501   \n",
       "                            Total              9.923235            7.884822   \n",
       "Washington Western Cascades 1985 - 2019        0.919935            0.755262   \n",
       "                            2020               0.084399            0.493052   \n",
       "                            Total              1.004334            1.248315   \n",
       "\n",
       "                                         lsr_og_percent_burned  \n",
       "eco_group                   yr_group                            \n",
       "Region                      1985 - 2019               1.716501  \n",
       "                            2020                      1.454283  \n",
       "                            Total                     3.167504  \n",
       "Coast Range                 1985 - 2019               0.215522  \n",
       "                            2020                      0.000212  \n",
       "                            Total                     0.215794  \n",
       "Olympic Peninsula           1985 - 2019               0.218589  \n",
       "                            2020                      0.000000  \n",
       "                            Total                     0.218589  \n",
       "Oregon Western Cascades     1985 - 2019               3.873636  \n",
       "                            2020                      3.652351  \n",
       "                            Total                     7.026426  \n",
       "Washington Western Cascades 1985 - 2019               0.325857  \n",
       "                            2020                      0.661814  \n",
       "                            Total                     0.975383  "
      ]
     },
     "execution_count": 21,
     "metadata": {},
     "output_type": "execute_result"
    }
   ],
   "source": [
    "final_df"
   ]
  },
  {
   "cell_type": "markdown",
   "id": "2fe94d1d",
   "metadata": {},
   "source": [
    "## Formatting"
   ]
  },
  {
   "cell_type": "markdown",
   "id": "13c0bc97",
   "metadata": {},
   "source": [
    "Format the final data table for the paper"
   ]
  },
  {
   "cell_type": "code",
   "execution_count": 22,
   "id": "f5861370",
   "metadata": {
    "ExecuteTime": {
     "end_time": "2021-11-22T23:40:42.250829Z",
     "start_time": "2021-11-22T23:40:42.238861Z"
    }
   },
   "outputs": [],
   "source": [
    "print_df = final_df.copy()\n",
    "\n",
    "print_df[\"Region/ecoregion\"] = print_df.apply(lambda x : f\"{int(x.hectares_burned):,} ha ({x.percent_burned:0.1f}%)\", axis=1)\n",
    "print_df[\"LSRs\"] = print_df.apply(lambda x : f\"{int(x.lsr_hectares_burned):,} ha ({x.lsr_percent_burned:0.1f}%)\", axis=1)\n",
    "print_df[\"Late-successional and old-growth forests in LSRs\"] = print_df.apply(lambda x : f\"{int(x.lsr_og_hectares_burned):,} ha ({x.lsr_og_percent_burned:0.1f}%)\", axis=1)\n",
    "\n",
    "print_df = print_df[[\n",
    "    \"Region/ecoregion\",\n",
    "    \"LSRs\",\n",
    "    \"Late-successional and old-growth forests in LSRs\"\n",
    "]]"
   ]
  },
  {
   "cell_type": "code",
   "execution_count": 23,
   "id": "ad5f938b",
   "metadata": {
    "ExecuteTime": {
     "end_time": "2021-11-22T23:40:42.856208Z",
     "start_time": "2021-11-22T23:40:42.839745Z"
    }
   },
   "outputs": [
    {
     "data": {
      "text/html": [
       "<div>\n",
       "<style scoped>\n",
       "    .dataframe tbody tr th:only-of-type {\n",
       "        vertical-align: middle;\n",
       "    }\n",
       "\n",
       "    .dataframe tbody tr th {\n",
       "        vertical-align: top;\n",
       "    }\n",
       "\n",
       "    .dataframe thead th {\n",
       "        text-align: right;\n",
       "    }\n",
       "</style>\n",
       "<table border=\"1\" class=\"dataframe\">\n",
       "  <thead>\n",
       "    <tr style=\"text-align: right;\">\n",
       "      <th></th>\n",
       "      <th></th>\n",
       "      <th>Region/ecoregion</th>\n",
       "      <th>LSRs</th>\n",
       "      <th>Late-successional and old-growth forests in LSRs</th>\n",
       "    </tr>\n",
       "    <tr>\n",
       "      <th>eco_group</th>\n",
       "      <th>yr_group</th>\n",
       "      <th></th>\n",
       "      <th></th>\n",
       "      <th></th>\n",
       "    </tr>\n",
       "  </thead>\n",
       "  <tbody>\n",
       "    <tr>\n",
       "      <th rowspan=\"3\" valign=\"top\">Region</th>\n",
       "      <th>1985 - 2019</th>\n",
       "      <td>145,480 ha (1.4%)</td>\n",
       "      <td>28,739 ha (1.9%)</td>\n",
       "      <td>10,921 ha (1.7%)</td>\n",
       "    </tr>\n",
       "    <tr>\n",
       "      <th>2020</th>\n",
       "      <td>177,136 ha (1.7%)</td>\n",
       "      <td>20,591 ha (1.4%)</td>\n",
       "      <td>9,232 ha (1.5%)</td>\n",
       "    </tr>\n",
       "    <tr>\n",
       "      <th>Total</th>\n",
       "      <td>322,617 ha (3.1%)</td>\n",
       "      <td>49,331 ha (3.3%)</td>\n",
       "      <td>20,154 ha (3.2%)</td>\n",
       "    </tr>\n",
       "    <tr>\n",
       "      <th rowspan=\"3\" valign=\"top\">Coast Range</th>\n",
       "      <th>1985 - 2019</th>\n",
       "      <td>1,756 ha (0.1%)</td>\n",
       "      <td>635 ha (0.2%)</td>\n",
       "      <td>285 ha (0.2%)</td>\n",
       "    </tr>\n",
       "    <tr>\n",
       "      <th>2020</th>\n",
       "      <td>169 ha (0.0%)</td>\n",
       "      <td>0 ha (0.0%)</td>\n",
       "      <td>0 ha (0.0%)</td>\n",
       "    </tr>\n",
       "    <tr>\n",
       "      <th>Total</th>\n",
       "      <td>1,926 ha (0.1%)</td>\n",
       "      <td>635 ha (0.2%)</td>\n",
       "      <td>286 ha (0.2%)</td>\n",
       "    </tr>\n",
       "    <tr>\n",
       "      <th rowspan=\"3\" valign=\"top\">Olympic Peninsula</th>\n",
       "      <th>1985 - 2019</th>\n",
       "      <td>713 ha (0.0%)</td>\n",
       "      <td>334 ha (0.2%)</td>\n",
       "      <td>147 ha (0.2%)</td>\n",
       "    </tr>\n",
       "    <tr>\n",
       "      <th>2020</th>\n",
       "      <td>0 ha (0.0%)</td>\n",
       "      <td>0 ha (0.0%)</td>\n",
       "      <td>0 ha (0.0%)</td>\n",
       "    </tr>\n",
       "    <tr>\n",
       "      <th>Total</th>\n",
       "      <td>714 ha (0.0%)</td>\n",
       "      <td>334 ha (0.2%)</td>\n",
       "      <td>147 ha (0.2%)</td>\n",
       "    </tr>\n",
       "    <tr>\n",
       "      <th rowspan=\"3\" valign=\"top\">Oregon Western Cascades</th>\n",
       "      <th>1985 - 2019</th>\n",
       "      <td>112,970 ha (3.9%)</td>\n",
       "      <td>24,235 ha (4.5%)</td>\n",
       "      <td>9,899 ha (3.9%)</td>\n",
       "    </tr>\n",
       "    <tr>\n",
       "      <th>2020</th>\n",
       "      <td>174,211 ha (6.0%)</td>\n",
       "      <td>18,283 ha (3.4%)</td>\n",
       "      <td>8,057 ha (3.7%)</td>\n",
       "    </tr>\n",
       "    <tr>\n",
       "      <th>Total</th>\n",
       "      <td>287,182 ha (9.9%)</td>\n",
       "      <td>42,519 ha (7.9%)</td>\n",
       "      <td>17,956 ha (7.0%)</td>\n",
       "    </tr>\n",
       "    <tr>\n",
       "      <th rowspan=\"3\" valign=\"top\">Washington Western Cascades</th>\n",
       "      <th>1985 - 2019</th>\n",
       "      <td>30,038 ha (0.9%)</td>\n",
       "      <td>3,534 ha (0.8%)</td>\n",
       "      <td>589 ha (0.3%)</td>\n",
       "    </tr>\n",
       "    <tr>\n",
       "      <th>2020</th>\n",
       "      <td>2,755 ha (0.1%)</td>\n",
       "      <td>2,307 ha (0.5%)</td>\n",
       "      <td>1,174 ha (0.7%)</td>\n",
       "    </tr>\n",
       "    <tr>\n",
       "      <th>Total</th>\n",
       "      <td>32,794 ha (1.0%)</td>\n",
       "      <td>5,841 ha (1.2%)</td>\n",
       "      <td>1,763 ha (1.0%)</td>\n",
       "    </tr>\n",
       "  </tbody>\n",
       "</table>\n",
       "</div>"
      ],
      "text/plain": [
       "                                          Region/ecoregion              LSRs  \\\n",
       "eco_group                   yr_group                                           \n",
       "Region                      1985 - 2019  145,480 ha (1.4%)  28,739 ha (1.9%)   \n",
       "                            2020         177,136 ha (1.7%)  20,591 ha (1.4%)   \n",
       "                            Total        322,617 ha (3.1%)  49,331 ha (3.3%)   \n",
       "Coast Range                 1985 - 2019    1,756 ha (0.1%)     635 ha (0.2%)   \n",
       "                            2020             169 ha (0.0%)       0 ha (0.0%)   \n",
       "                            Total          1,926 ha (0.1%)     635 ha (0.2%)   \n",
       "Olympic Peninsula           1985 - 2019      713 ha (0.0%)     334 ha (0.2%)   \n",
       "                            2020               0 ha (0.0%)       0 ha (0.0%)   \n",
       "                            Total            714 ha (0.0%)     334 ha (0.2%)   \n",
       "Oregon Western Cascades     1985 - 2019  112,970 ha (3.9%)  24,235 ha (4.5%)   \n",
       "                            2020         174,211 ha (6.0%)  18,283 ha (3.4%)   \n",
       "                            Total        287,182 ha (9.9%)  42,519 ha (7.9%)   \n",
       "Washington Western Cascades 1985 - 2019   30,038 ha (0.9%)   3,534 ha (0.8%)   \n",
       "                            2020           2,755 ha (0.1%)   2,307 ha (0.5%)   \n",
       "                            Total         32,794 ha (1.0%)   5,841 ha (1.2%)   \n",
       "\n",
       "                                        Late-successional and old-growth forests in LSRs  \n",
       "eco_group                   yr_group                                                      \n",
       "Region                      1985 - 2019                                 10,921 ha (1.7%)  \n",
       "                            2020                                         9,232 ha (1.5%)  \n",
       "                            Total                                       20,154 ha (3.2%)  \n",
       "Coast Range                 1985 - 2019                                    285 ha (0.2%)  \n",
       "                            2020                                             0 ha (0.0%)  \n",
       "                            Total                                          286 ha (0.2%)  \n",
       "Olympic Peninsula           1985 - 2019                                    147 ha (0.2%)  \n",
       "                            2020                                             0 ha (0.0%)  \n",
       "                            Total                                          147 ha (0.2%)  \n",
       "Oregon Western Cascades     1985 - 2019                                  9,899 ha (3.9%)  \n",
       "                            2020                                         8,057 ha (3.7%)  \n",
       "                            Total                                       17,956 ha (7.0%)  \n",
       "Washington Western Cascades 1985 - 2019                                    589 ha (0.3%)  \n",
       "                            2020                                         1,174 ha (0.7%)  \n",
       "                            Total                                        1,763 ha (1.0%)  "
      ]
     },
     "execution_count": 23,
     "metadata": {},
     "output_type": "execute_result"
    }
   ],
   "source": [
    "print_df"
   ]
  }
 ],
 "metadata": {
  "kernelspec": {
   "display_name": "Python [conda env:geostats]",
   "language": "python",
   "name": "conda-env-geostats-py"
  },
  "language_info": {
   "codemirror_mode": {
    "name": "ipython",
    "version": 3
   },
   "file_extension": ".py",
   "mimetype": "text/x-python",
   "name": "python",
   "nbconvert_exporter": "python",
   "pygments_lexer": "ipython3",
   "version": "3.9.7"
  },
  "toc": {
   "base_numbering": 1,
   "nav_menu": {},
   "number_sections": true,
   "sideBar": true,
   "skip_h1_title": false,
   "title_cell": "Table of Contents",
   "title_sidebar": "Contents",
   "toc_cell": false,
   "toc_position": {},
   "toc_section_display": true,
   "toc_window_display": true
  }
 },
 "nbformat": 4,
 "nbformat_minor": 5
}
