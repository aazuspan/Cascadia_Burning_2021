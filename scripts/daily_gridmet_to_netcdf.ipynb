{
 "cells": [
  {
   "cell_type": "markdown",
   "id": "b2aa5197",
   "metadata": {},
   "source": [
    "# Daily Grids to netCDF\n",
    "Take the daily grids from `download_daily_gridmet`, combine and clean them into DataSets, and export them as netCDF files."
   ]
  },
  {
   "cell_type": "code",
   "execution_count": null,
   "id": "5763ba16",
   "metadata": {
    "ExecuteTime": {
     "end_time": "2021-08-31T23:05:52.330170Z",
     "start_time": "2021-08-31T23:05:50.993285Z"
    }
   },
   "outputs": [],
   "source": [
    "import xarray as xr\n",
    "import os\n",
    "import numpy as np\n",
    "import datetime\n",
    "import pandas as pd\n",
    "import rasterio as rio\n",
    "import rioxarray"
   ]
  },
  {
   "cell_type": "markdown",
   "id": "322d6511",
   "metadata": {},
   "source": [
    "## Utility functions"
   ]
  },
  {
   "cell_type": "code",
   "execution_count": null,
   "id": "b0fc84a2",
   "metadata": {
    "ExecuteTime": {
     "end_time": "2021-08-31T23:05:54.485756Z",
     "start_time": "2021-08-31T23:05:54.471794Z"
    }
   },
   "outputs": [],
   "source": [
    "def open_rasterio_and_set_dates(path):\n",
    "    \"\"\"Open a rasterio image with dates as bands and return with the date coordinates renamed and set, assuming bands\n",
    "    follow the format yymmdd-z_variable\n",
    "    \"\"\"\n",
    "    def datetime_from_band_name(band_name):\n",
    "        date = band_name.split('_')[0]\n",
    "        return pd.to_datetime(date)\n",
    "\n",
    "    da = xr.open_rasterio(path)\n",
    "    dates = [datetime_from_band_name(band) for band in da.descriptions]\n",
    "    da = da.assign_coords({\"band\": dates}).rename({\"band\": \"date\"})\n",
    "    return da"
   ]
  },
  {
   "cell_type": "code",
   "execution_count": null,
   "id": "8af648f8",
   "metadata": {
    "ExecuteTime": {
     "end_time": "2021-08-31T23:05:54.952070Z",
     "start_time": "2021-08-31T23:05:54.943586Z"
    }
   },
   "outputs": [],
   "source": [
    "def get_variables_from_paths(paths):\n",
    "    \"\"\"Return a list of unique variable names, assuming files follow the format dataset_variable_year.tif\n",
    "    \"\"\"\n",
    "    variables = [path.split('_')[1] for path in paths]\n",
    "    return np.unique(variables)"
   ]
  },
  {
   "cell_type": "code",
   "execution_count": null,
   "id": "76661a78",
   "metadata": {
    "ExecuteTime": {
     "end_time": "2021-08-31T23:11:52.637815Z",
     "start_time": "2021-08-31T23:11:52.625259Z"
    }
   },
   "outputs": [],
   "source": [
    "def split_paths_by_variable(paths):\n",
    "    \"\"\"Take one list of paths and split it into one list per unique variable, assuming files follow the format\n",
    "    dataset_variable_year.tif. Yield a tuple with the variable name and the list of path lists for each variable.\n",
    "    \"\"\"\n",
    "    def get_variable_from_path(path):\n",
    "        \"\"\"Get a variable name from a path, assuming the file follows the format dataset_variable_year.tif.\n",
    "        The band name may contain underscores but the dataset and name may not.\n",
    "        \"\"\"\n",
    "        split = os.path.basename(path).split('_')\n",
    "\n",
    "        dataset = split[0] + \"_\"\n",
    "        year = \"_\" + split[-1]\n",
    "\n",
    "        variable = os.path.basename(path).removeprefix(dataset).removesuffix(year)\n",
    "        return variable\n",
    "    \n",
    "    def get_unique_variables_from_paths(paths):\n",
    "        \"\"\"Return a list of unique variable names, assuming files follow the format dataset_variable_year.tif\n",
    "        \"\"\"\n",
    "        variables = [get_variable_from_path(path) for path in paths]\n",
    "        return np.unique(variables)\n",
    "    \n",
    "    variables = get_unique_variables_from_paths(paths)\n",
    "    \n",
    "    for var in variables:\n",
    "        yield (var, [file for file in paths if var in file])"
   ]
  },
  {
   "cell_type": "code",
   "execution_count": null,
   "id": "4f2fdc6f",
   "metadata": {
    "ExecuteTime": {
     "end_time": "2021-08-31T23:11:53.149230Z",
     "start_time": "2021-08-31T23:11:53.137294Z"
    }
   },
   "outputs": [],
   "source": [
    "def load_dataset(directory):\n",
    "    \"\"\"Load all rasters in a directory that belong to a single dataset with one or more variables.\n",
    "    \"\"\"\n",
    "    files = [os.path.join(directory, file) for file in os.listdir(directory) if file.endswith(\".tif\")]\n",
    "    \n",
    "    variable_das = []\n",
    "    for variable, path_list in split_paths_by_variable(files):\n",
    "        das = [open_rasterio_and_set_dates(file) for file in path_list]\n",
    "        da = xr.concat(das, dim=\"date\")\n",
    "        da.name = variable\n",
    "        variable_das.append(da)\n",
    "    \n",
    "    ds = xr.merge(variable_das)\n",
    "    \n",
    "    return ds"
   ]
  },
  {
   "cell_type": "markdown",
   "id": "60b6acaf",
   "metadata": {},
   "source": [
    "## Constants"
   ]
  },
  {
   "cell_type": "code",
   "execution_count": null,
   "id": "23256624",
   "metadata": {
    "ExecuteTime": {
     "end_time": "2022-02-17T18:40:17.147354Z",
     "start_time": "2022-02-17T18:40:17.039671Z"
    }
   },
   "outputs": [],
   "source": [
    "data_dir = os.path.join(\"..\", \"data\")"
   ]
  },
  {
   "cell_type": "markdown",
   "id": "8c98d31b",
   "metadata": {},
   "source": [
    "## gridMET"
   ]
  },
  {
   "cell_type": "code",
   "execution_count": null,
   "id": "4a3ce326",
   "metadata": {
    "ExecuteTime": {
     "end_time": "2021-07-09T16:56:10.014865Z",
     "start_time": "2021-07-09T16:56:09.912602Z"
    },
    "code_folding": [],
    "scrolled": true
   },
   "outputs": [],
   "source": [
    "gridmet_dir = os.path.join(data_dir, \"gridMET\")\n",
    "gridmet = load_dataset(gridmet_dir)\n",
    "gridmet.rio.write_crs(gridmet.crs, inplace=True)"
   ]
  },
  {
   "cell_type": "code",
   "execution_count": null,
   "id": "295fb7e8",
   "metadata": {
    "ExecuteTime": {
     "end_time": "2021-07-09T16:57:11.276693Z",
     "start_time": "2021-07-09T16:56:47.665728Z"
    }
   },
   "outputs": [],
   "source": [
    "gridmet.to_netcdf(os.path.join(data_dir, \"gridMET\", \"gridMET.nc\"))"
   ]
  }
 ],
 "metadata": {
  "kernelspec": {
   "display_name": "geostats",
   "language": "python",
   "name": "geostats"
  },
  "language_info": {
   "codemirror_mode": {
    "name": "ipython",
    "version": 3
   },
   "file_extension": ".py",
   "mimetype": "text/x-python",
   "name": "python",
   "nbconvert_exporter": "python",
   "pygments_lexer": "ipython3",
   "version": "3.9.7"
  },
  "toc": {
   "base_numbering": 1,
   "nav_menu": {},
   "number_sections": true,
   "sideBar": true,
   "skip_h1_title": false,
   "title_cell": "Table of Contents",
   "title_sidebar": "Contents",
   "toc_cell": false,
   "toc_position": {},
   "toc_section_display": true,
   "toc_window_display": false
  }
 },
 "nbformat": 4,
 "nbformat_minor": 5
}
