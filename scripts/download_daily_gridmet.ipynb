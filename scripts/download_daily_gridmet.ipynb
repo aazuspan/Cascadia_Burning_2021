{
 "cells": [
  {
   "cell_type": "markdown",
   "id": "58690df8",
   "metadata": {},
   "source": [
    "# Download Daily Grids\n",
    "\n",
    "This script downloads all daily gridMET data. The output is one file per year per variable, e.g. gridMET ERC 2015."
   ]
  },
  {
   "cell_type": "code",
   "execution_count": 1,
   "id": "b2399fcd",
   "metadata": {
    "ExecuteTime": {
     "end_time": "2022-02-17T18:34:30.271029Z",
     "start_time": "2022-02-17T18:34:27.719722Z"
    }
   },
   "outputs": [],
   "source": [
    "import ee\n",
    "import numpy as np\n",
    "import pandas as pd\n",
    "import datetime\n",
    "import time\n",
    "import os\n",
    "import geemap"
   ]
  },
  {
   "cell_type": "code",
   "execution_count": 2,
   "id": "a8e54f07",
   "metadata": {
    "ExecuteTime": {
     "end_time": "2022-02-17T18:34:31.844578Z",
     "start_time": "2022-02-17T18:34:30.271998Z"
    }
   },
   "outputs": [],
   "source": [
    "ee.Initialize()"
   ]
  },
  {
   "cell_type": "markdown",
   "id": "f4c08b6f",
   "metadata": {},
   "source": [
    "## Utility functions"
   ]
  },
  {
   "cell_type": "code",
   "execution_count": 3,
   "id": "2c10bf72",
   "metadata": {
    "ExecuteTime": {
     "end_time": "2022-02-17T18:34:33.098284Z",
     "start_time": "2022-02-17T18:34:33.081041Z"
    }
   },
   "outputs": [],
   "source": [
    "def generate_annual_named_image(collection, band_name, start, end, band_alias=None):\n",
    "    \"\"\"Take an image collection and output a single image with one variable and one band for each day.\n",
    "    \"\"\"\n",
    "    band_alias = band_name if not band_alias else band_alias\n",
    "    collection_year = collection.filterDate(str(start), str(end)).select(band_name)\n",
    "    band_names = collection_year.aggregate_array(\"system:time_start\").map(lambda x : ee.Date(x).format(\"YMMdd\").cat(f\"_{band_alias}\"))\n",
    "    named_image = collection_year.toBands().rename(band_names)\n",
    "    \n",
    "    return named_image"
   ]
  },
  {
   "cell_type": "markdown",
   "id": "13c7ec9c",
   "metadata": {},
   "source": [
    "## Load data"
   ]
  },
  {
   "cell_type": "code",
   "execution_count": 4,
   "id": "b6abe767",
   "metadata": {
    "ExecuteTime": {
     "end_time": "2022-02-17T18:34:35.735401Z",
     "start_time": "2022-02-17T18:34:35.726815Z"
    }
   },
   "outputs": [],
   "source": [
    "westside = ee.FeatureCollection(\"users/aazuspan/westside_ecoregions_dissolve_zuspan\")\n",
    "nwfp = ee.FeatureCollection(\"users/aazuspan/nwfpbnd\")\n",
    "\n",
    "aoi = nwfp.geometry()"
   ]
  },
  {
   "cell_type": "code",
   "execution_count": 5,
   "id": "6cf198bc",
   "metadata": {
    "ExecuteTime": {
     "end_time": "2022-02-17T18:34:42.243829Z",
     "start_time": "2022-02-17T18:34:42.229898Z"
    }
   },
   "outputs": [],
   "source": [
    "gridmet = ee.ImageCollection(\"IDAHO_EPSCOR/GRIDMET\")"
   ]
  },
  {
   "cell_type": "markdown",
   "id": "ebfbb94b",
   "metadata": {},
   "source": [
    "## Constants"
   ]
  },
  {
   "cell_type": "code",
   "execution_count": 6,
   "id": "ebd7bcd6",
   "metadata": {
    "ExecuteTime": {
     "end_time": "2022-02-17T18:34:43.067118Z",
     "start_time": "2022-02-17T18:34:43.049822Z"
    }
   },
   "outputs": [],
   "source": [
    "CRS = \"EPSG:26910\""
   ]
  },
  {
   "cell_type": "markdown",
   "id": "e72f1c3d",
   "metadata": {},
   "source": [
    "### Exporting daily gridMET data"
   ]
  },
  {
   "cell_type": "code",
   "execution_count": 26,
   "id": "a3448e2f",
   "metadata": {
    "ExecuteTime": {
     "end_time": "2021-08-31T21:05:20.368433Z",
     "start_time": "2021-08-31T21:04:40.110511Z"
    },
    "scrolled": true
   },
   "outputs": [],
   "source": [
    "export_options = {\n",
    "    \"region\": aoi,\n",
    "    \"scale\": 4000,\n",
    "    \"crs\": CRS,\n",
    "    \"maxPixels\": 1e13,\n",
    "}\n",
    "\n",
    "for year in range(1979, 2022):\n",
    "    for band in [\"rmin\", \"vs\", \"erc\"]:\n",
    "        gridmet_year = generate_annual_named_image(gridmet, band, year, year+1)\n",
    "\n",
    "        task_gridmet = ee.batch.Export.image(image=gridmet_year, description=f\"gridmet_{band}_{year}\", config=export_options)\n",
    "        task_gridmet.start()"
   ]
  }
 ],
 "metadata": {
  "kernelspec": {
   "display_name": "Python [conda env:gee]",
   "language": "python",
   "name": "conda-env-gee-py"
  },
  "language_info": {
   "codemirror_mode": {
    "name": "ipython",
    "version": 3
   },
   "file_extension": ".py",
   "mimetype": "text/x-python",
   "name": "python",
   "nbconvert_exporter": "python",
   "pygments_lexer": "ipython3",
   "version": "3.9.2"
  },
  "toc": {
   "base_numbering": 1,
   "nav_menu": {},
   "number_sections": true,
   "sideBar": true,
   "skip_h1_title": false,
   "title_cell": "Table of Contents",
   "title_sidebar": "Contents",
   "toc_cell": false,
   "toc_position": {},
   "toc_section_display": true,
   "toc_window_display": false
  }
 },
 "nbformat": 4,
 "nbformat_minor": 5
}
