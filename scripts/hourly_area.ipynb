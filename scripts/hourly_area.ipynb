{
 "cells": [
  {
   "cell_type": "markdown",
   "id": "exclusive-salad",
   "metadata": {},
   "source": [
    "# Hourly Area Burned\n",
    "\n",
    "This script takes cumulative hotspot detections calculated in GEE and creates a figure showing hourly fire growth by fire."
   ]
  },
  {
   "cell_type": "code",
   "execution_count": null,
   "id": "creative-threat",
   "metadata": {
    "ExecuteTime": {
     "end_time": "2022-02-16T23:38:00.400357Z",
     "start_time": "2022-02-16T23:37:58.478043Z"
    }
   },
   "outputs": [],
   "source": [
    "import os\n",
    "import pandas as pd\n",
    "import geopandas as gpd\n",
    "import numpy as np\n",
    "from shapely.geometry.polygon import Polygon\n",
    "from shapely.geometry.multipolygon import MultiPolygon\n",
    "import rasterio as rio\n",
    "from rasterio.mask import mask\n",
    "import matplotlib.pyplot as plt\n",
    "import plotly"
   ]
  },
  {
   "cell_type": "code",
   "execution_count": null,
   "id": "serious-reviewer",
   "metadata": {
    "ExecuteTime": {
     "end_time": "2022-02-16T23:38:01.088157Z",
     "start_time": "2022-02-16T23:38:01.070969Z"
    }
   },
   "outputs": [],
   "source": [
    "TARGET_CRS = \"EPSG:5070\"\n",
    "\n",
    "PIXEL_SIZE = 2500 * 2500\n",
    "SQM_PER_HA = 10000\n",
    "\n",
    "# Surface wind speed in meters per second from Cramer 1957\n",
    "CRAMER_WIND_THRESHOLD = 4\n",
    "CRAMER_RH_THRESHOLD = 36"
   ]
  },
  {
   "cell_type": "markdown",
   "id": "gorgeous-shepherd",
   "metadata": {},
   "source": [
    "## Load data"
   ]
  },
  {
   "cell_type": "code",
   "execution_count": null,
   "id": "minimal-reservation",
   "metadata": {
    "ExecuteTime": {
     "end_time": "2022-02-16T23:39:31.904654Z",
     "start_time": "2022-02-16T23:39:31.837590Z"
    }
   },
   "outputs": [],
   "source": [
    "mask_path = os.path.join(\"..\", \"data\", \"cumulative_hourly_masks.tif\")\n",
    "masks = rio.open(mask_path)"
   ]
  },
  {
   "cell_type": "code",
   "execution_count": null,
   "id": "cheap-presentation",
   "metadata": {
    "ExecuteTime": {
     "end_time": "2022-02-16T23:43:09.862952Z",
     "start_time": "2022-02-16T23:43:09.561842Z"
    }
   },
   "outputs": [],
   "source": [
    "fires_path = os.path.join(\"..\", \"data\", \"NIFC\", \"Public_NIFS_Perimeters_westside_ecoregions_complete.shp\")\n",
    "\n",
    "fires = gpd.read_file(fires_path).to_crs(TARGET_CRS)\n",
    "# rasterio refuses to mask with a Polygon, so cast them all to Multipolygon\n",
    "fires[\"geometry\"] = [MultiPolygon([feature]) if type(feature) == Polygon else feature for feature in fires[\"geometry\"]]"
   ]
  },
  {
   "cell_type": "markdown",
   "id": "urban-dubai",
   "metadata": {},
   "source": [
    "## Processing"
   ]
  },
  {
   "cell_type": "markdown",
   "id": "bacterial-helen",
   "metadata": {},
   "source": [
    "### All fires"
   ]
  },
  {
   "cell_type": "code",
   "execution_count": null,
   "id": "interim-journal",
   "metadata": {
    "ExecuteTime": {
     "end_time": "2022-02-16T23:44:38.302645Z",
     "start_time": "2022-02-16T23:44:30.950875Z"
    }
   },
   "outputs": [],
   "source": [
    "raw_df = pd.DataFrame()\n",
    "\n",
    "# Calculate the cumulative area in each fire at each hour and the corresponding weather\n",
    "for i, fire in fires.iterrows():\n",
    "    # Convert fire name to camel case\n",
    "    name = fire.IncidentNa.title()\n",
    "    geom = fire.geometry\n",
    "\n",
    "    # Clip the hourly masks to the fire\n",
    "    fire_masks, _ = mask(masks, geom, crop=False, nodata=0, filled=True, pad=False, all_touched=False)\n",
    "    # Replace NaN with 0 (not sure if this is needed)\n",
    "    fire_masks = np.nan_to_num(fire_masks)\n",
    "\n",
    "    # Extract the fire mask in each hour\n",
    "    for i, band in enumerate(masks.descriptions):\n",
    "        # GEE adds an index to each band, so remove those\n",
    "        date_str = ('_').join(band.split('_')[1:])\n",
    "\n",
    "        # Convert the date string to a datetime object\n",
    "        date = pd.to_datetime(date_str, format=\"%Y_%m_%d_%H\")\n",
    "\n",
    "        # Binary mask of all patches in one fire in one hour\n",
    "        hour_mask = fire_masks[i].astype(bool)\n",
    "\n",
    "        area_burned = np.count_nonzero(hour_mask) * PIXEL_SIZE / SQM_PER_HA\n",
    "\n",
    "        # If no burning patches exist, skip this hour\n",
    "        if not area_burned:\n",
    "            continue\n",
    "\n",
    "        row = {}\n",
    "        row[\"fire_name\"] = name\n",
    "        row[\"date\"] = date\n",
    "        row[\"hectares\"] = area_burned\n",
    "\n",
    "        raw_df = raw_df.append(row, ignore_index=True)"
   ]
  },
  {
   "cell_type": "markdown",
   "id": "spatial-produce",
   "metadata": {},
   "source": [
    "## Figures"
   ]
  },
  {
   "cell_type": "code",
   "execution_count": null,
   "id": "spectacular-oregon",
   "metadata": {
    "ExecuteTime": {
     "end_time": "2022-02-16T23:45:06.520151Z",
     "start_time": "2022-02-16T23:45:06.390580Z"
    }
   },
   "outputs": [],
   "source": [
    "import plotly.express as px\n",
    "import plotly.graph_objects as go"
   ]
  },
  {
   "cell_type": "markdown",
   "id": "fancy-familiar",
   "metadata": {},
   "source": [
    "### Cumulative fire area"
   ]
  },
  {
   "cell_type": "code",
   "execution_count": null,
   "id": "fatty-charity",
   "metadata": {
    "ExecuteTime": {
     "end_time": "2022-02-16T23:45:37.325069Z",
     "start_time": "2022-02-16T23:45:37.298479Z"
    }
   },
   "outputs": [],
   "source": [
    "df = raw_df.copy()\n",
    "\n",
    "df[\"prev_hectares\"] = df.groupby(\"fire_name\").hectares.shift(1)\n",
    "# Calculate the area grown in the last hour\n",
    "df[\"hectare_growth\"] = df.hectares.subtract(df.prev_hectares)\n",
    "\n",
    "\n",
    "# Subtract 1 hour. The mask bands represent end dates, so this shifts them to start dates.\n",
    "df.date = df.date - pd.Timedelta(\"1 hour\")\n",
    "\n",
    "# Remove the first hour of the 14th to get 240 hours\n",
    "df = df[df.date.lt(\"2020-09-14\")]\n",
    "\n",
    "\n",
    "# Remove S. Obenchain since it's too far south\n",
    "df = df[df.fire_name.ne(\"S. Obenchain\")]\n",
    "\n",
    "# Lump all minor fires into \"Other\"\n",
    "major_fires = [\"Big Hollow\", \"Archie Creek\", \"Riverside\", \"Holiday Farm\", \"Lionshead\", \"Beachie Creek\"]\n",
    "df.fire_name = df.fire_name.apply(lambda x : x if x in major_fires else \"Other\")\n",
    "\n",
    "# Re-group and sum by hour to aggregate the \"other\" fires\n",
    "df = df.groupby([\"fire_name\", \"date\"]).sum().reset_index()\n",
    "\n",
    "# Calculate the final size of each fire\n",
    "df = df.assign(final_hectares=df.groupby(\"fire_name\").hectares.transform(max))\n",
    "# Sort by largest fire\n",
    "df = df.sort_values(by=[\"final_hectares\", \"date\"], ascending=False)"
   ]
  },
  {
   "cell_type": "code",
   "execution_count": null,
   "id": "reverse-mining",
   "metadata": {
    "ExecuteTime": {
     "end_time": "2022-02-16T23:45:38.749366Z",
     "start_time": "2022-02-16T23:45:38.737890Z"
    }
   },
   "outputs": [],
   "source": [
    "# Hectares burned during the 48 hour window\n",
    "df_48hr = df[df.date.ge(\"2020-09-08T00\") & df.date.lt(\"2020-09-10T00\")]\n",
    "df_48hr.groupby(\"fire_name\").hectare_growth.sum().sum()"
   ]
  },
  {
   "cell_type": "code",
   "execution_count": null,
   "id": "regular-petite",
   "metadata": {
    "ExecuteTime": {
     "end_time": "2022-02-16T23:45:50.731169Z",
     "start_time": "2022-02-16T23:45:48.853537Z"
    }
   },
   "outputs": [],
   "source": [
    "fill_colors = px.colors.qualitative.Vivid[1:]\n",
    "\n",
    "fig = px.area(df, x=\"date\", y=\"hectares\", color=\"fire_name\", \n",
    "              color_discrete_sequence=fill_colors,\n",
    "             labels={\"fire_name\": \"\"})\n",
    "\n",
    "fig.update_layout(\n",
    "    template=\"ggplot2\",\n",
    "    yaxis_title=\"Cumulative Hectares Burned\",\n",
    "    xaxis_title=\"Date\",\n",
    "    plot_bgcolor='rgb(255, 255, 255)',\n",
    "    # Format the date labels\n",
    "    xaxis=dict(\n",
    "        tickmode = \"linear\",\n",
    "        tickformat=\"%m/%d\",\n",
    "        ticklabelmode=\"period\"\n",
    "    ),\n",
    "    # Flip the order of the legend to match the order of the areas\n",
    "    legend=dict(\n",
    "        traceorder=\"reversed\"\n",
    "    )\n",
    ")\n",
    "\n",
    "# Add solid plot border and grey gridlines\n",
    "fig.update_yaxes(showline=True, linecolor=\"black\", linewidth=1, mirror=True, gridcolor=\"rgba(0, 0, 0, 0.1)\")\n",
    "fig.update_xaxes(showline=True, linecolor=\"black\", linewidth=1, mirror=True, gridcolor=\"rgba(0, 0, 0, 0.1)\")\n",
    "\n",
    "# Highlight 48 hour period\n",
    "fig.add_vrect(x0=\"2020-09-08T00\", x1=\"2020-09-10T00\", \n",
    "                      fillcolor=\"red\", opacity=0.2, line_width=0, layer=\"below\")\n",
    "\n",
    "# Highlight 48 hour period\n",
    "fig.add_vrect(x0=\"2020-09-08T00\", x1=\"2020-09-10T00\", \n",
    "              fillcolor=\"rgba(0, 0, 0, 0)\", opacity=1, \n",
    "              line_width=1, line_color=\"red\", layer=\"above\", line_dash=\"dot\")\n",
    "\n",
    "# Manually assign the colors defined above so that I can override the default alpha\n",
    "for i, trace in enumerate(fig['data']):\n",
    "    trace['fillcolor'] = fill_colors[i]\n",
    "    trace['line_color'] = \"rgba(0, 0, 0, 1)\"\n",
    "    trace['line_width'] = 0.5\n",
    "   \n",
    "fig.update_layout(\n",
    "    width=800,\n",
    "    height=360\n",
    ")\n",
    "\n",
    "fig"
   ]
  },
  {
   "cell_type": "code",
   "execution_count": null,
   "id": "white-institute",
   "metadata": {
    "ExecuteTime": {
     "end_time": "2022-02-16T23:46:08.055432Z",
     "start_time": "2022-02-16T23:46:08.046871Z"
    }
   },
   "outputs": [],
   "source": [
    "# Area that burned in a 48 hour period\n",
    "period_burned = df[df.date.gt(\"2020-09-08T00\") & df.date.le(\"2020-09-10T00\")].groupby(\"date\").hectare_growth.sum().sum(0)"
   ]
  },
  {
   "cell_type": "code",
   "execution_count": null,
   "id": "polish-anime",
   "metadata": {
    "ExecuteTime": {
     "end_time": "2022-02-16T23:46:09.041491Z",
     "start_time": "2022-02-16T23:46:09.029028Z"
    }
   },
   "outputs": [],
   "source": [
    "# Total cumulative area burned by the end of the time range.\n",
    "total_burned = df.groupby(\"date\").sum().reset_index().hectares[-1:]\n",
    "\n",
    "# Final fire size for these fires in 2020, according to GIS\n",
    "final_burned = 379045.165"
   ]
  },
  {
   "cell_type": "code",
   "execution_count": null,
   "id": "contained-draft",
   "metadata": {
    "ExecuteTime": {
     "end_time": "2022-02-16T23:46:12.210655Z",
     "start_time": "2022-02-16T23:46:12.199150Z"
    }
   },
   "outputs": [],
   "source": [
    "period_burned"
   ]
  }
 ],
 "metadata": {
  "kernelspec": {
   "display_name": "Python 3",
   "language": "python",
   "name": "python3"
  },
  "language_info": {
   "codemirror_mode": {
    "name": "ipython",
    "version": 3
   },
   "file_extension": ".py",
   "mimetype": "text/x-python",
   "name": "python",
   "nbconvert_exporter": "python",
   "pygments_lexer": "ipython3",
   "version": "3.8.5"
  },
  "toc": {
   "base_numbering": 1,
   "nav_menu": {},
   "number_sections": true,
   "sideBar": true,
   "skip_h1_title": false,
   "title_cell": "Table of Contents",
   "title_sidebar": "Contents",
   "toc_cell": false,
   "toc_position": {},
   "toc_section_display": true,
   "toc_window_display": true
  }
 },
 "nbformat": 4,
 "nbformat_minor": 5
}
