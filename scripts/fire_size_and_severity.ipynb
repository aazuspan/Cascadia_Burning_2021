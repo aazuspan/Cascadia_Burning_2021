{
 "cells": [
  {
   "cell_type": "markdown",
   "id": "95cd1342",
   "metadata": {},
   "source": [
    "# Fire size and severity"
   ]
  },
  {
   "cell_type": "markdown",
   "id": "17e71af4",
   "metadata": {},
   "source": [
    "Generate a scatter plot of westside fires 1984-2020. Fire size on x-axis, % high severity (>75% mortality) on y-axis."
   ]
  },
  {
   "cell_type": "code",
   "execution_count": null,
   "id": "650ca8e8",
   "metadata": {
    "ExecuteTime": {
     "end_time": "2021-08-25T17:42:32.808991Z",
     "start_time": "2021-08-25T17:42:31.083988Z"
    }
   },
   "outputs": [],
   "source": [
    "import os\n",
    "import pandas as pd\n",
    "import geopandas as gpd\n",
    "import rasterstats\n",
    "import plotly.graph_objects as go\n",
    "from datetime import date"
   ]
  },
  {
   "cell_type": "markdown",
   "id": "8169cdc2",
   "metadata": {},
   "source": [
    "## Input data"
   ]
  },
  {
   "cell_type": "code",
   "execution_count": null,
   "id": "2013994f",
   "metadata": {
    "ExecuteTime": {
     "end_time": "2021-08-25T17:42:32.825076Z",
     "start_time": "2021-08-25T17:42:32.811991Z"
    }
   },
   "outputs": [],
   "source": [
    "data_dir = os.path.join(\"..\", \"data\")\n",
    "target_crs = \"EPSG:5070\"\n",
    "SQM_PER_HA = 10_000\n",
    "today = date.today().strftime(format=\"%Y%m%d\")"
   ]
  },
  {
   "cell_type": "markdown",
   "id": "da242985",
   "metadata": {},
   "source": [
    "### Ecoregion"
   ]
  },
  {
   "cell_type": "code",
   "execution_count": null,
   "id": "adc13938",
   "metadata": {
    "ExecuteTime": {
     "end_time": "2021-08-25T17:42:33.014064Z",
     "start_time": "2021-08-25T17:42:32.827071Z"
    }
   },
   "outputs": [],
   "source": [
    "westside = gpd.read_file(os.path.join(data_dir, \"study_area.gpkg\"))"
   ]
  },
  {
   "cell_type": "markdown",
   "id": "a12bdb20",
   "metadata": {},
   "source": [
    "### Fires 1984-2019"
   ]
  },
  {
   "cell_type": "code",
   "execution_count": null,
   "id": "85e19db6",
   "metadata": {
    "ExecuteTime": {
     "end_time": "2021-08-25T17:42:46.169016Z",
     "start_time": "2021-08-25T17:42:35.015015Z"
    }
   },
   "outputs": [],
   "source": [
    "# Available at https://www.mtbs.gov/direct-download\n",
    "mtbs_path = os.path.join(data_dir, \"mtbs\", \"mtbs_perims_DD.shp\")\n",
    "mtbs = gpd.read_file(mtbs_path).to_crs(target_crs)\n",
    "mtbs_westside = gpd.clip(mtbs, westside)\n",
    "\n",
    "# Remove prescribed fires\n",
    "mtbs_westside = mtbs_westside[mtbs_westside.Incid_Type.eq(\"Wildfire\")]\n",
    "# Parse the year from the ignition date because MTBS changed their metadata to not include years\n",
    "mtbs_westside[\"year\"] = pd.DatetimeIndex(mtbs_westside.Ig_Date).year\n",
    "mtbs_westside[\"fire_name\"] = mtbs_westside.Incid_Name.str.title()"
   ]
  },
  {
   "cell_type": "markdown",
   "id": "8744a658",
   "metadata": {},
   "source": [
    "### Fires 2020"
   ]
  },
  {
   "cell_type": "code",
   "execution_count": null,
   "id": "400ecdb5",
   "metadata": {
    "ExecuteTime": {
     "end_time": "2021-08-25T17:42:47.153574Z",
     "start_time": "2021-08-25T17:42:46.169016Z"
    }
   },
   "outputs": [],
   "source": [
    "# These are pre-clipped to westside ecoregions\n",
    "nifc_path = os.path.join(data_dir, \"NIFC\", \"Public_NIFS_Perimeters_westside_ecoregions_clipped.shp\")\n",
    "nifc_westside = gpd.read_file(nifc_path).to_crs(target_crs)\n",
    "nifc_westside[\"fire_name\"] = nifc_westside.IncidentNa.str.title()\n",
    "nifc_westside[\"year\"] = 2020"
   ]
  },
  {
   "cell_type": "markdown",
   "id": "e0b52312",
   "metadata": {},
   "source": [
    "### Combined fires"
   ]
  },
  {
   "cell_type": "code",
   "execution_count": null,
   "id": "45dc1d96",
   "metadata": {
    "ExecuteTime": {
     "end_time": "2021-08-25T17:42:47.184577Z",
     "start_time": "2021-08-25T17:42:47.153574Z"
    }
   },
   "outputs": [],
   "source": [
    "keep_cols = [\"fire_name\", \"year\", \"geometry\"]\n",
    "fires = pd.concat([mtbs_westside[keep_cols], nifc_westside[keep_cols]])\n",
    "fires[\"hectares\"] = fires.area.divide(SQM_PER_HA)"
   ]
  },
  {
   "cell_type": "markdown",
   "id": "5d0838af",
   "metadata": {},
   "source": [
    "### Fire severity"
   ]
  },
  {
   "cell_type": "code",
   "execution_count": null,
   "id": "2551fae2",
   "metadata": {
    "ExecuteTime": {
     "end_time": "2021-08-25T17:42:47.233065Z",
     "start_time": "2021-08-25T17:42:47.218106Z"
    }
   },
   "outputs": [],
   "source": [
    "sev_dir = os.path.join(data_dir, \"severity\")\n",
    "sev_codes = {\n",
    "    1: \"Very low/unburned\",\n",
    "    2: \"Low\",\n",
    "    3: \"Moderate\", \n",
    "    4: \"Moderate high\",\n",
    "    5: \"High\", \n",
    "    6: \"Very high\"\n",
    "}"
   ]
  },
  {
   "cell_type": "markdown",
   "id": "17c4f86e",
   "metadata": {},
   "source": [
    "## Processing"
   ]
  },
  {
   "cell_type": "code",
   "execution_count": null,
   "id": "730b7775",
   "metadata": {
    "ExecuteTime": {
     "end_time": "2021-08-25T17:42:49.102719Z",
     "start_time": "2021-08-25T17:42:48.291706Z"
    }
   },
   "outputs": [],
   "source": [
    "fires[\"year_group\"] = fires.year.apply(lambda x : \"2020\" if x==2020 else \"1985-2019\")"
   ]
  },
  {
   "cell_type": "markdown",
   "id": "570e7cff",
   "metadata": {},
   "source": [
    "### Percent high severity"
   ]
  },
  {
   "cell_type": "code",
   "execution_count": null,
   "id": "0503d9c3",
   "metadata": {
    "ExecuteTime": {
     "end_time": "2021-08-25T17:42:49.451602Z",
     "start_time": "2021-08-25T17:42:49.434081Z"
    }
   },
   "outputs": [],
   "source": [
    "# Calculate the percent of pixels in a list of classes from a dictionary returned by rasterstats\n",
    "def percent_in_classes(d, classes=[5, 6]):\n",
    "    total_count = sum(d.values())\n",
    "    if not total_count:\n",
    "        return 0\n",
    "    \n",
    "    class_count = 0\n",
    "    \n",
    "    for val in classes:\n",
    "        try:\n",
    "            class_count += d[val]\n",
    "        except KeyError:\n",
    "            pass\n",
    "\n",
    "    class_percent = class_count / total_count\n",
    "    return class_percent"
   ]
  },
  {
   "cell_type": "code",
   "execution_count": null,
   "id": "16ea127a",
   "metadata": {
    "ExecuteTime": {
     "end_time": "2021-08-25T17:43:10.679453Z",
     "start_time": "2021-08-25T17:43:08.778542Z"
    }
   },
   "outputs": [],
   "source": [
    "processed_fires = []\n",
    "\n",
    "for year in fires.year.unique():\n",
    "    # The severity grids can be generated using `scripts/severity.js`\n",
    "    sev_path = os.path.join(sev_dir, f\"severity_{year}.tif\")\n",
    "    yr_fires = fires.loc[fires.year.eq(year)].copy()\n",
    "    \n",
    "    yr_fires[\"severity\"] = rasterstats.zonal_stats(yr_fires, sev_path, categorical=True, cmap=sev_codes, nodata=0)\n",
    "    \n",
    "    processed_fires.append(yr_fires)\n",
    "\n",
    "processed_fires = pd.concat(processed_fires)\n",
    "processed_fires[\"percent_high_severity\"] = processed_fires.severity.apply(percent_in_classes)"
   ]
  },
  {
   "cell_type": "code",
   "execution_count": null,
   "id": "0c6948ce",
   "metadata": {
    "ExecuteTime": {
     "end_time": "2021-08-25T17:43:16.506577Z",
     "start_time": "2021-08-25T17:43:15.261637Z"
    },
    "code_folding": [
     22
    ],
    "scrolled": false
   },
   "outputs": [],
   "source": [
    "fig = go.Figure()\n",
    "\n",
    "fires_pre = processed_fires[processed_fires.year_group.ne(\"2020\")].copy()\n",
    "fires_2020 = processed_fires[processed_fires.year_group.eq(\"2020\")].copy()\n",
    "\n",
    "# 1985-2019 fire points\n",
    "fig.add_trace(go.Scatter(x=fires_pre.hectares, y=fires_pre.percent_high_severity, mode=\"markers\", name=\"1985-2019\",\n",
    "                         marker=dict(size=8, symbol=\"0\", color=\"rgba(55, 126, 184, 1)\", \n",
    "                                     line=dict(width=1, color=\"rgb(255, 255, 255)\"))\n",
    "                        ))\n",
    "\n",
    "# 2020 fire points\n",
    "fig.add_trace(go.Scatter(x=fires_2020.hectares, y=fires_2020.percent_high_severity, \n",
    "                         mode=\"markers\", name=\"2020\",\n",
    "                         marker=dict(size=9, symbol=2, color=\"rgba(255, 26, 28, 1)\", \n",
    "                                     line=dict(width=1, color=\"rgb(0, 0, 0)\"))\n",
    "                        ))\n",
    "\n",
    "\n",
    "fig.update_xaxes(title=\"Fire size (ha)\")\n",
    "fig.update_yaxes(title=\"Portion high severity\", tickformat=\"%p\")\n",
    "\n",
    "fig.update_layout(\n",
    "    template=\"ggplot2\",\n",
    "    plot_bgcolor='rgb(255, 255, 255)',\n",
    ")\n",
    "\n",
    "# Add solid plot border and grey gridlines\n",
    "fig.update_yaxes(showline=True, linecolor=\"black\", linewidth=1, mirror=True, gridcolor=\"rgba(0, 0, 0, 0.1)\", dtick=0.2,\n",
    "                 title_standoff=4\n",
    "                )\n",
    "fig.update_xaxes(showline=True, linecolor=\"black\", linewidth=1, mirror=True, gridcolor=\"rgba(0, 0, 0, 0.1)\", dtick=10_000)\n",
    "\n",
    "\n",
    "fig.update_layout(\n",
    "    width=830,\n",
    "    height=400,\n",
    "    legend=dict(title=\"\", x=0.834, y=0.98, borderwidth=1, bordercolor=\"rgba(0,0,0,0.4)\"),\n",
    "    margin=dict(l=10, r=10, t=10, b=10)\n",
    ")\n",
    "\n",
    "fig"
   ]
  }
 ],
 "metadata": {
  "kernelspec": {
   "display_name": "Python 3",
   "language": "python",
   "name": "python3"
  },
  "language_info": {
   "codemirror_mode": {
    "name": "ipython",
    "version": 3
   },
   "file_extension": ".py",
   "mimetype": "text/x-python",
   "name": "python",
   "nbconvert_exporter": "python",
   "pygments_lexer": "ipython3",
   "version": "3.8.5"
  },
  "toc": {
   "base_numbering": 1,
   "nav_menu": {},
   "number_sections": true,
   "sideBar": true,
   "skip_h1_title": false,
   "title_cell": "Table of Contents",
   "title_sidebar": "Contents",
   "toc_cell": false,
   "toc_position": {},
   "toc_section_display": true,
   "toc_window_display": true
  }
 },
 "nbformat": 4,
 "nbformat_minor": 5
}
