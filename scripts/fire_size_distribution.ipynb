{
 "cells": [
  {
   "cell_type": "markdown",
   "id": "688d0831",
   "metadata": {},
   "source": [
    "# Fire and Patch Size Distribution Figures"
   ]
  },
  {
   "cell_type": "code",
   "execution_count": null,
   "id": "conscious-vancouver",
   "metadata": {
    "ExecuteTime": {
     "end_time": "2022-02-17T19:24:16.353088Z",
     "start_time": "2022-02-17T19:24:16.201563Z"
    }
   },
   "outputs": [],
   "source": [
    "import os\n",
    "import geopandas as gpd\n",
    "import pandas as pd\n",
    "import numpy as np"
   ]
  },
  {
   "cell_type": "code",
   "execution_count": null,
   "id": "4ebef9d4",
   "metadata": {
    "ExecuteTime": {
     "end_time": "2022-02-17T19:24:16.355119Z",
     "start_time": "2022-02-17T19:24:16.312Z"
    }
   },
   "outputs": [],
   "source": [
    "TARGET_CRS = \"EPSG:5070\"\n",
    "\n",
    "SQM_PER_HA = 10000"
   ]
  },
  {
   "cell_type": "markdown",
   "id": "711198ad",
   "metadata": {},
   "source": [
    "## Input Data\n",
    "Load all fire perimeters and clip to the Westside"
   ]
  },
  {
   "cell_type": "code",
   "execution_count": null,
   "id": "elect-election",
   "metadata": {},
   "outputs": [],
   "source": [
    "data_dir = os.path.join(\"..\", \"data\")"
   ]
  },
  {
   "cell_type": "code",
   "execution_count": null,
   "id": "bce39641",
   "metadata": {
    "ExecuteTime": {
     "end_time": "2021-08-02T19:05:30.792089Z",
     "start_time": "2021-08-02T19:05:30.605053Z"
    }
   },
   "outputs": [],
   "source": [
    "westside = gpd.read_file(os.path.join(data_dir, \"study_area.gpkg\"))"
   ]
  },
  {
   "cell_type": "code",
   "execution_count": null,
   "id": "c90aa6f8",
   "metadata": {
    "ExecuteTime": {
     "end_time": "2021-08-02T19:05:52.018017Z",
     "start_time": "2021-08-02T19:05:39.425383Z"
    }
   },
   "outputs": [],
   "source": [
    "# Available at https://www.mtbs.gov/direct-download\n",
    "mtbs_path = os.path.join(data_dir, \"mtbs\", \"mtbs_perims_DD.shp\")\n",
    "mtbs = gpd.read_file(mtbs_path).to_crs(TARGET_CRS)\n",
    "mtbs_westside = gpd.clip(mtbs, westside, keep_geom_type=True)"
   ]
  },
  {
   "cell_type": "code",
   "execution_count": null,
   "id": "9033b3ec",
   "metadata": {
    "ExecuteTime": {
     "end_time": "2021-08-02T19:06:17.243977Z",
     "start_time": "2021-08-02T19:06:06.783474Z"
    }
   },
   "outputs": [],
   "source": [
    "nifc_2020_path = os.path.join(data_dir, \"NIFC\", \"Public_NIFS_Perimeters_westside_ecoregions_complete.shp\")\n",
    "nifc_2020 = gpd.read_file(nifc_2020_path).to_crs(TARGET_CRS)\n",
    "nifc_2020_westside = gpd.clip(nifc_2020, westside, keep_geom_type=True)"
   ]
  },
  {
   "cell_type": "markdown",
   "id": "3fb5bf35",
   "metadata": {},
   "source": [
    "## Processing\n",
    "Collapse the fire geodataframes into tables of area and year range, and combine"
   ]
  },
  {
   "cell_type": "code",
   "execution_count": null,
   "id": "ac3e90ea",
   "metadata": {
    "ExecuteTime": {
     "end_time": "2021-08-02T19:06:23.876423Z",
     "start_time": "2021-08-02T19:06:23.856878Z"
    }
   },
   "outputs": [],
   "source": [
    "fires_1985_2019 = pd.DataFrame({\"area\": mtbs_westside.area, \"yr_range\": \"1985-2019\"})\n",
    "fires_1985_2019[\"ha\"] = fires_1985_2019.area.divide(SQM_PER_HA)\n",
    "fires_2020 = pd.DataFrame({\"area\": nifc_2020_westside.area, \"yr_range\": \"2020\"})\n",
    "fires_2020[\"ha\"] = fires_2020.area.divide(SQM_PER_HA)"
   ]
  },
  {
   "cell_type": "markdown",
   "id": "80e85be4",
   "metadata": {},
   "source": [
    "## Fire Size Figure"
   ]
  },
  {
   "cell_type": "code",
   "execution_count": null,
   "id": "19b75e67",
   "metadata": {
    "ExecuteTime": {
     "end_time": "2021-08-02T19:06:26.599805Z",
     "start_time": "2021-08-02T19:06:25.298776Z"
    }
   },
   "outputs": [],
   "source": [
    "import plotly.express as px"
   ]
  },
  {
   "cell_type": "code",
   "execution_count": null,
   "id": "6c154c89",
   "metadata": {
    "ExecuteTime": {
     "end_time": "2021-08-02T19:06:27.754820Z",
     "start_time": "2021-08-02T19:06:27.677431Z"
    }
   },
   "outputs": [],
   "source": [
    "bins = [-np.inf, 100, 500, 1_000, 5_000, 10_000, 25_000, 50_000, np.inf]\n",
    "\n",
    "# Manual labels corresponding to the bins for labeling x-axis ticks\n",
    "ticktext = [\"<100\", \"500\", \"1,000\", \"5,000\", \"10,000\", \"25,000\", \"50,000\", \">50,000\"]\n",
    "\n",
    "\n",
    "# https://towardsdatascience.com/histograms-with-plotly-express-complete-guide-d483656c5ad7#c08f\n",
    "\n",
    "fires_2020[\"count\"] = pd.cut(fires_2020.ha, bins, include_lowest=True)\n",
    "# Count the number of fires in each bin, then divide by the number of fires to get % of fires\n",
    "agg2020 = fires_2020[\"count\"].value_counts()\n",
    "# # Convert to dataframe\n",
    "agg2020 = agg2020.sort_index().to_frame().reset_index()\n",
    "agg2020[\"bin_percent\"] = agg2020[\"count\"].divide(len(fires_2020))\n",
    "agg2020[\"yr_range\"] = \"2020\"\n",
    "\n",
    "fires_1985_2019[\"count\"] = pd.cut(fires_1985_2019.ha, bins, include_lowest=True)\n",
    "# Count the number of fires in each bin, then divide by the number of fires to get % of fires\n",
    "agg1985 = fires_1985_2019[\"count\"].value_counts()\n",
    "# Convert to dataframe\n",
    "agg1985 = agg1985.sort_index().to_frame().reset_index()\n",
    "agg1985[\"bin_percent\"] = agg1985[\"count\"].divide(len(fires_1985_2019))\n",
    "agg1985[\"yr_range\"] = \"1985-2019\"\n",
    "\n",
    "# Combine the two year ranges\n",
    "counts = pd.concat([agg1985, agg2020])\n",
    "# rename index (containing the bin range e.g. \"(5000000.0, 10000000.0]\" to bins)\n",
    "counts.rename(columns={\"index\":\"size_bin\"}, inplace=True)\n",
    "# # Plotly cannot work with categories index, so we need to turn it into string\n",
    "counts[\"size_bin\"] = counts[\"size_bin\"].astype(\"str\")"
   ]
  },
  {
   "cell_type": "code",
   "execution_count": null,
   "id": "2ad6d995",
   "metadata": {
    "ExecuteTime": {
     "end_time": "2021-08-02T21:19:59.929747Z",
     "start_time": "2021-08-02T21:19:59.823602Z"
    },
    "scrolled": false
   },
   "outputs": [],
   "source": [
    "fire_fig = px.bar(\n",
    "    counts, x=\"size_bin\", y=\"bin_percent\", color=\"yr_range\",\n",
    "    labels={\"bin_percent\":\"Portion of fires\", \"size_bin\": \"Fire size class (ha)\"},\n",
    "    barmode=\"group\", text=\"count\",\n",
    "    color_discrete_sequence=px.colors.qualitative.Set1[0:2][::-1]\n",
    ")\n",
    "\n",
    "fire_fig.update_layout(yaxis=dict(title_standoff=0), xaxis=dict(title_standoff=0))\n",
    "\n",
    "fire_fig.update_layout(yaxis=dict(tickformat=\",.0%\"))\n",
    "\n",
    "fire_fig.update_layout(\n",
    "    template=\"ggplot2\",\n",
    "    plot_bgcolor='rgb(255, 255, 255)',\n",
    "    legend=dict(\n",
    "        title=\"\",\n",
    "        x=0.65, y=0.98,\n",
    "        bordercolor=\"rgb(0,0,0)\",\n",
    "        borderwidth=0.5,\n",
    "    ),\n",
    "    bargap=0.2,\n",
    "    bargroupgap=0.0\n",
    ")\n",
    "\n",
    "fire_fig.update_layout(showlegend=True)\n",
    "\n",
    "# Black border around bars\n",
    "fire_fig.update_traces(marker=dict(line=dict(color=\"black\")), textposition=\"outside\")\n",
    "\n",
    "# Add solid plot border and grey gridlines\n",
    "fire_fig.update_yaxes(showline=True, linecolor=\"black\", linewidth=1, mirror=True, gridcolor=\"rgba(0, 0, 0, 0.1)\")\n",
    "fire_fig.update_xaxes(showline=True, linecolor=\"black\", linewidth=1, mirror=True, gridcolor=\"rgba(0, 0, 0, 0.1)\")\n",
    "\n",
    "# Manual x axis value labels\n",
    "fire_fig.update_xaxes(tickmode=\"array\", tickvals=counts.size_bin, ticktext=ticktext, tickangle=45)\n",
    "\n",
    "fire_fig.update_layout(width=500, height=450)\n",
    "\n",
    "fire_fig"
   ]
  },
  {
   "cell_type": "markdown",
   "id": "63c659d7",
   "metadata": {},
   "source": [
    "## Patch Size Figure"
   ]
  },
  {
   "cell_type": "code",
   "execution_count": null,
   "id": "5d8b906b",
   "metadata": {
    "ExecuteTime": {
     "end_time": "2021-08-02T19:06:39.538381Z",
     "start_time": "2021-08-02T19:06:39.523342Z"
    }
   },
   "outputs": [],
   "source": [
    "# Folder of CSVs, by year, of individual patches. Processed by an R script in that directory\n",
    "data_dir = os.path.join(data_dir, \"patch_size\")"
   ]
  },
  {
   "cell_type": "code",
   "execution_count": null,
   "id": "2d3052a0",
   "metadata": {
    "ExecuteTime": {
     "end_time": "2021-08-02T19:06:42.420604Z",
     "start_time": "2021-08-02T19:06:42.196799Z"
    }
   },
   "outputs": [],
   "source": [
    "df_list = [pd.read_csv(os.path.join(data_dir, file)) for file in os.listdir(data_dir) if file.endswith(\".csv\")]\n",
    "patch_df = pd.concat(df_list)\n",
    "\n",
    "patch_df[\"yr_range\"] = patch_df.yr.apply(lambda x : \"2020\" if x == 2020 else \"1985-2019\")\n",
    "\n",
    "patch_bins = [-np.inf, 1, 10, 100, 1000, 10000, np.inf]\n",
    "patch_ticktext = [\"<1\", \"10\", \"100\", \"1,000\", \"10,000\", \">10,000\"]\n",
    "patch_df[\"size_bin\"] = pd.cut(patch_df[\"value\"], patch_bins)\n",
    "\n",
    "# Count the area in each patch size bin in each year group\n",
    "patch_group_df = patch_df.groupby([\"yr_range\", \"size_bin\"])[\"value\"].sum().reset_index()\n",
    "# Calculate the percent of the year group's total fire area in each patch size bin\n",
    "patch_group_df[\"bin_percent\"] = patch_group_df[\"value\"] / patch_group_df.groupby(\"yr_range\")[\"value\"].transform(sum)\n",
    "# Plotly cannot work with categories index, so we need to turn it into string\n",
    "patch_group_df[\"size_bin\"] = patch_group_df[\"size_bin\"].astype(\"str\")"
   ]
  },
  {
   "cell_type": "code",
   "execution_count": null,
   "id": "4e7ed69d",
   "metadata": {
    "ExecuteTime": {
     "end_time": "2021-08-02T19:06:47.919945Z",
     "start_time": "2021-08-02T19:06:47.837332Z"
    }
   },
   "outputs": [],
   "source": [
    "patch_fig = px.bar(\n",
    "    patch_group_df, x=\"size_bin\", y=\"bin_percent\", color=\"yr_range\",\n",
    "    labels={\"bin_percent\":\"Portion of high severity fire extent\", \"size_bin\": \"High-severity patch size class (ha)\"},\n",
    "    barmode=\"group\",\n",
    "    color_discrete_sequence=px.colors.qualitative.Set1[0:2][::-1]\n",
    ")\n",
    "\n",
    "patch_fig.update_layout(yaxis=dict(title_standoff=0), xaxis=dict(title_standoff=0))\n",
    "\n",
    "patch_fig.update_layout(yaxis=dict(tickformat=\",.0%\"))\n",
    "\n",
    "patch_fig.update_layout(\n",
    "    template=\"ggplot2\",\n",
    "    plot_bgcolor='rgb(255, 255, 255)',\n",
    "    legend=dict(\n",
    "        title=\"\",\n",
    "        x=0.015, y=0.98,\n",
    "        bordercolor=\"rgb(0,0,0)\",\n",
    "        borderwidth=0.5,\n",
    "    ),\n",
    "    bargap=0.4,\n",
    "    bargroupgap=0.0\n",
    ")\n",
    "\n",
    "# Black border around bars\n",
    "patch_fig.update_traces(marker=dict(line=dict(color=\"black\")))\n",
    "\n",
    "# Hide the legend if the plot is going to be next to the fire area plot that has the same legend\n",
    "patch_fig.update_layout(showlegend=False)\n",
    "\n",
    "# Add solid plot border and grey gridlines\n",
    "patch_fig.update_yaxes(showline=True, linecolor=\"black\", linewidth=1, mirror=True, gridcolor=\"rgba(0, 0, 0, 0.1)\")\n",
    "patch_fig.update_xaxes(showline=True, linecolor=\"black\", linewidth=1, mirror=True, gridcolor=\"rgba(0, 0, 0, 0.1)\")\n",
    "\n",
    "# Manual x axis value labels\n",
    "patch_fig.update_xaxes(tickmode=\"array\", tickvals=patch_group_df.size_bin, ticktext=patch_ticktext, tickangle=45)\n",
    "\n",
    "patch_fig.update_layout(width=500, height=450)\n",
    "\n",
    "patch_fig.show()"
   ]
  }
 ],
 "metadata": {
  "kernelspec": {
   "display_name": "geostats",
   "language": "python",
   "name": "geostats"
  },
  "language_info": {
   "codemirror_mode": {
    "name": "ipython",
    "version": 3
   },
   "file_extension": ".py",
   "mimetype": "text/x-python",
   "name": "python",
   "nbconvert_exporter": "python",
   "pygments_lexer": "ipython3",
   "version": "3.9.7"
  },
  "toc": {
   "base_numbering": 1,
   "nav_menu": {},
   "number_sections": true,
   "sideBar": true,
   "skip_h1_title": false,
   "title_cell": "Table of Contents",
   "title_sidebar": "Contents",
   "toc_cell": false,
   "toc_position": {},
   "toc_section_display": true,
   "toc_window_display": true
  }
 },
 "nbformat": 4,
 "nbformat_minor": 5
}
